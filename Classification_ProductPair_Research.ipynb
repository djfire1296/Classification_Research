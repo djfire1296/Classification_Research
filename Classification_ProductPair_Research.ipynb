{
 "cells": [
  {
   "cell_type": "markdown",
   "metadata": {},
   "source": [
    "<h1> Libraries </h1>"
   ]
  },
  {
   "cell_type": "code",
   "execution_count": 1,
   "metadata": {
    "collapsed": true
   },
   "outputs": [],
   "source": [
    "# basic libraries\n",
    "import os\n",
    "import time\n",
    "import math\n",
    "\n",
    "import numpy as np\n",
    "import pandas as pd\n",
    "import datetime\n",
    "from datetime import datetime as ddt\n",
    "from datetime import date\n",
    "import matplotlib.pylab as plt"
   ]
  },
  {
   "cell_type": "code",
   "execution_count": null,
   "metadata": {
    "collapsed": true
   },
   "outputs": [],
   "source": []
  },
  {
   "cell_type": "markdown",
   "metadata": {},
   "source": [
    "<h1> Initialization </h1>"
   ]
  },
  {
   "cell_type": "markdown",
   "metadata": {},
   "source": [
    "<h2> Percentage </h2>"
   ]
  },
  {
   "cell_type": "code",
   "execution_count": 2,
   "metadata": {
    "collapsed": false
   },
   "outputs": [
    {
     "data": {
      "text/plain": [
       "array([ 0.7,  0.2,  0.6])"
      ]
     },
     "execution_count": 2,
     "metadata": {},
     "output_type": "execute_result"
    }
   ],
   "source": [
    "y_percentage = np.array([0.7, 0.2, 0.6])\n",
    "y_percentage"
   ]
  },
  {
   "cell_type": "code",
   "execution_count": 3,
   "metadata": {
    "collapsed": false
   },
   "outputs": [
    {
     "data": {
      "text/plain": [
       "array([ 0.3,  0.8,  0.4])"
      ]
     },
     "execution_count": 3,
     "metadata": {},
     "output_type": "execute_result"
    }
   ],
   "source": [
    "n_percentage = 1 - y_percentage\n",
    "n_percentage"
   ]
  },
  {
   "cell_type": "code",
   "execution_count": null,
   "metadata": {
    "collapsed": true
   },
   "outputs": [],
   "source": []
  },
  {
   "cell_type": "markdown",
   "metadata": {},
   "source": [
    "<h2> Wieght </h2>"
   ]
  },
  {
   "cell_type": "code",
   "execution_count": 4,
   "metadata": {
    "collapsed": false
   },
   "outputs": [
    {
     "data": {
      "text/plain": [
       "array([ 1.42857143,  5.        ,  1.66666667])"
      ]
     },
     "execution_count": 4,
     "metadata": {},
     "output_type": "execute_result"
    }
   ],
   "source": [
    "y_weight = 1 / y_percentage\n",
    "y_weight"
   ]
  },
  {
   "cell_type": "code",
   "execution_count": 5,
   "metadata": {
    "collapsed": false
   },
   "outputs": [
    {
     "data": {
      "text/plain": [
       "array([ 3.33333333,  1.25      ,  2.5       ])"
      ]
     },
     "execution_count": 5,
     "metadata": {},
     "output_type": "execute_result"
    }
   ],
   "source": [
    "n_weight = 1 / n_percentage\n",
    "n_weight"
   ]
  },
  {
   "cell_type": "code",
   "execution_count": null,
   "metadata": {
    "collapsed": true
   },
   "outputs": [],
   "source": []
  },
  {
   "cell_type": "markdown",
   "metadata": {},
   "source": [
    "<h2> Data </h2>"
   ]
  },
  {
   "cell_type": "code",
   "execution_count": 6,
   "metadata": {
    "collapsed": true
   },
   "outputs": [],
   "source": [
    "data = [np.array([1,1,1]), np.array([1,1,0]), np.array([1,0,1]), np.array([1,0,0]), \n",
    "        np.array([0,1,1]), np.array([0,1,0]), np.array([0,0,1]), np.array([0,0,0])]"
   ]
  },
  {
   "cell_type": "code",
   "execution_count": 7,
   "metadata": {
    "collapsed": true
   },
   "outputs": [],
   "source": [
    "data_name = ['YYY', 'YYN', 'YNY', 'YNN', 'NYY', 'NYN', 'NNY', 'NNN']"
   ]
  },
  {
   "cell_type": "code",
   "execution_count": 8,
   "metadata": {
    "collapsed": true
   },
   "outputs": [],
   "source": [
    "sortdata = [np.array([0,1,0]), np.array([0,1,1]), np.array([1,1,0]), np.array([0,0,0]),\n",
    "            np.array([1,1,1]), np.array([0,0,1]), np.array([1,0,0]), np.array([1,0,1])]"
   ]
  },
  {
   "cell_type": "code",
   "execution_count": null,
   "metadata": {
    "collapsed": true
   },
   "outputs": [],
   "source": []
  },
  {
   "cell_type": "markdown",
   "metadata": {},
   "source": [
    "<h1> Calculate Scores </h1>"
   ]
  },
  {
   "cell_type": "code",
   "execution_count": 9,
   "metadata": {
    "collapsed": true
   },
   "outputs": [],
   "source": [
    "# Input: comparison data, target\n",
    "def calculate_relation_score(a_t, t):\n",
    "    a_conj = np.ones(3, np.int) - a_t\n",
    "    y_score = np.dot(y_weight, (t - a_conj) == 1)\n",
    "    n_score = np.dot(n_weight, (t - a_conj) == -1)\n",
    "    return y_score + n_score"
   ]
  },
  {
   "cell_type": "code",
   "execution_count": 10,
   "metadata": {
    "collapsed": false
   },
   "outputs": [
    {
     "data": {
      "text/plain": [
       "array([[  8.0952381 ,   6.42857143,   3.0952381 ,   1.42857143,\n",
       "          6.66666667,   5.        ,   1.66666667,   0.        ],\n",
       "       [  6.42857143,   8.92857143,   1.42857143,   3.92857143,\n",
       "          5.        ,   7.5       ,   0.        ,   2.5       ],\n",
       "       [  3.0952381 ,   1.42857143,   4.3452381 ,   2.67857143,\n",
       "          1.66666667,   0.        ,   2.91666667,   1.25      ],\n",
       "       [  1.42857143,   3.92857143,   2.67857143,   5.17857143,\n",
       "          0.        ,   2.5       ,   1.25      ,   3.75      ],\n",
       "       [  6.66666667,   5.        ,   1.66666667,   0.        ,\n",
       "         10.        ,   8.33333333,   5.        ,   3.33333333],\n",
       "       [  5.        ,   7.5       ,   0.        ,   2.5       ,\n",
       "          8.33333333,  10.83333333,   3.33333333,   5.83333333],\n",
       "       [  1.66666667,   0.        ,   2.91666667,   1.25      ,\n",
       "          5.        ,   3.33333333,   6.25      ,   4.58333333],\n",
       "       [  0.        ,   2.5       ,   1.25      ,   3.75      ,\n",
       "          3.33333333,   5.83333333,   4.58333333,   7.08333333]])"
      ]
     },
     "execution_count": 10,
     "metadata": {},
     "output_type": "execute_result"
    }
   ],
   "source": [
    "total_score = []\n",
    "# target\n",
    "for i in xrange(len(data)):\n",
    "    score = []\n",
    "    # comparison data\n",
    "    for j in xrange(len(data)):\n",
    "        score.append(calculate_relation_score(data[j], data[i]))\n",
    "    total_score.append(np.array(score))\n",
    "total_score = np.array(total_score).T\n",
    "total_score"
   ]
  },
  {
   "cell_type": "code",
   "execution_count": 11,
   "metadata": {
    "collapsed": false
   },
   "outputs": [
    {
     "name": "stdout",
     "output_type": "stream",
     "text": [
      " 8.095,  6.429,  3.095,  1.429,  6.667,  5.000,  1.667,  0.000\n",
      " 6.429,  8.929,  1.429,  3.929,  5.000,  7.500,  0.000,  2.500\n",
      " 3.095,  1.429,  4.345,  2.679,  1.667,  0.000,  2.917,  1.250\n",
      " 1.429,  3.929,  2.679,  5.179,  0.000,  2.500,  1.250,  3.750\n",
      " 6.667,  5.000,  1.667,  0.000, 10.000,  8.333,  5.000,  3.333\n",
      " 5.000,  7.500,  0.000,  2.500,  8.333, 10.833,  3.333,  5.833\n",
      " 1.667,  0.000,  2.917,  1.250,  5.000,  3.333,  6.250,  4.583\n",
      " 0.000,  2.500,  1.250,  3.750,  3.333,  5.833,  4.583,  7.083\n"
     ]
    }
   ],
   "source": [
    "for t in total_score:\n",
    "    p = [float(x) for x in t]\n",
    "    print \"{:>6.3f}, {:>6.3f}, {:>6.3f}, {:>6.3f}, {:>6.3f}, {:>6.3f}, {:>6.3f}, {:>6.3f}\" \\\n",
    "                                        .format((p[0]), p[1], p[2], p[3], p[4], p[5], p[6], p[7])"
   ]
  },
  {
   "cell_type": "code",
   "execution_count": 12,
   "metadata": {
    "collapsed": false
   },
   "outputs": [
    {
     "data": {
      "text/plain": [
       "array([[ 1.        ,  0.72      ,  0.71232877,  0.27586207,  0.66666667,\n",
       "         0.46153846,  0.26666667,  0.        ],\n",
       "       [ 0.79411765,  1.        ,  0.32876712,  0.75862069,  0.5       ,\n",
       "         0.69230769,  0.        ,  0.35294118],\n",
       "       [ 0.38235294,  0.16      ,  1.        ,  0.51724138,  0.16666667,\n",
       "         0.        ,  0.46666667,  0.17647059],\n",
       "       [ 0.17647059,  0.44      ,  0.61643836,  1.        ,  0.        ,\n",
       "         0.23076923,  0.2       ,  0.52941176],\n",
       "       [ 0.82352941,  0.56      ,  0.38356164,  0.        ,  1.        ,\n",
       "         0.76923077,  0.8       ,  0.47058824],\n",
       "       [ 0.61764706,  0.84      ,  0.        ,  0.48275862,  0.83333333,\n",
       "         1.        ,  0.53333333,  0.82352941],\n",
       "       [ 0.20588235,  0.        ,  0.67123288,  0.24137931,  0.5       ,\n",
       "         0.30769231,  1.        ,  0.64705882],\n",
       "       [ 0.        ,  0.28      ,  0.28767123,  0.72413793,  0.33333333,\n",
       "         0.53846154,  0.73333333,  1.        ]])"
      ]
     },
     "execution_count": 12,
     "metadata": {},
     "output_type": "execute_result"
    }
   ],
   "source": [
    "total_relation = []\n",
    "for i in xrange(len(total_score)):\n",
    "    total_relation.append(total_score.T[i] / total_score[i][i])\n",
    "total_relation = np.array(total_relation).T\n",
    "total_relation"
   ]
  },
  {
   "cell_type": "code",
   "execution_count": 13,
   "metadata": {
    "collapsed": false
   },
   "outputs": [
    {
     "name": "stdout",
     "output_type": "stream",
     "text": [
      " 1.000,  0.720,  0.712,  0.276,  0.667,  0.462,  0.267,  0.000\n",
      " 0.794,  1.000,  0.329,  0.759,  0.500,  0.692,  0.000,  0.353\n",
      " 0.382,  0.160,  1.000,  0.517,  0.167,  0.000,  0.467,  0.176\n",
      " 0.176,  0.440,  0.616,  1.000,  0.000,  0.231,  0.200,  0.529\n",
      " 0.824,  0.560,  0.384,  0.000,  1.000,  0.769,  0.800,  0.471\n",
      " 0.618,  0.840,  0.000,  0.483,  0.833,  1.000,  0.533,  0.824\n",
      " 0.206,  0.000,  0.671,  0.241,  0.500,  0.308,  1.000,  0.647\n",
      " 0.000,  0.280,  0.288,  0.724,  0.333,  0.538,  0.733,  1.000\n"
     ]
    }
   ],
   "source": [
    "for t in total_relation:\n",
    "    p = [float(x) for x in t]\n",
    "    print \"{:>6.3f}, {:>6.3f}, {:>6.3f}, {:>6.3f}, {:>6.3f}, {:>6.3f}, {:>6.3f}, {:>6.3f}\" \\\n",
    "                                        .format((p[0]), p[1], p[2], p[3], p[4], p[5], p[6], p[7])"
   ]
  },
  {
   "cell_type": "code",
   "execution_count": null,
   "metadata": {
    "collapsed": true
   },
   "outputs": [],
   "source": []
  },
  {
   "cell_type": "markdown",
   "metadata": {},
   "source": [
    "<h1> Calculate Rank </h1>"
   ]
  },
  {
   "cell_type": "code",
   "execution_count": 14,
   "metadata": {
    "collapsed": false,
    "scrolled": true
   },
   "outputs": [
    {
     "data": {
      "text/plain": [
       "array([[1, 2, 3, 4, 5, 6, 7, 8],\n",
       "       [5, 6, 1, 2, 6, 5, 5, 6],\n",
       "       [2, 1, 7, 8, 1, 2, 8, 7],\n",
       "       [6, 5, 4, 3, 7, 8, 6, 4],\n",
       "       [3, 4, 5, 6, 2, 1, 3, 5],\n",
       "       [7, 8, 2, 1, 8, 7, 1, 2],\n",
       "       [4, 3, 8, 7, 3, 4, 4, 3],\n",
       "       [8, 7, 6, 5, 4, 3, 2, 1]])"
      ]
     },
     "execution_count": 14,
     "metadata": {},
     "output_type": "execute_result"
    }
   ],
   "source": [
    "total_index = []\n",
    "for i in xrange(len(total_score.T)):\n",
    "    index = total_score.T[i].argsort()[::-1]+1\n",
    "    total_index.append(np.array(index))\n",
    "total_index = np.array(total_index).T\n",
    "total_index"
   ]
  },
  {
   "cell_type": "code",
   "execution_count": 15,
   "metadata": {
    "collapsed": false,
    "scrolled": true
   },
   "outputs": [
    {
     "data": {
      "text/plain": [
       "array([[1, 3, 2, 6, 3, 5, 6, 8],\n",
       "       [3, 1, 6, 2, 5, 3, 8, 6],\n",
       "       [5, 7, 1, 4, 7, 8, 5, 7],\n",
       "       [7, 5, 4, 1, 8, 7, 7, 4],\n",
       "       [2, 4, 5, 8, 1, 2, 2, 5],\n",
       "       [4, 2, 8, 5, 2, 1, 4, 2],\n",
       "       [6, 8, 3, 7, 4, 6, 1, 3],\n",
       "       [8, 6, 7, 3, 6, 4, 3, 1]])"
      ]
     },
     "execution_count": 15,
     "metadata": {},
     "output_type": "execute_result"
    }
   ],
   "source": [
    "total_rank = []\n",
    "for i in xrange(len(total_index.T)):\n",
    "    rank = total_index.T[i].argsort()+1\n",
    "    total_rank.append(np.array(rank))\n",
    "total_rank = np.array(total_rank).T\n",
    "total_rank"
   ]
  },
  {
   "cell_type": "code",
   "execution_count": null,
   "metadata": {
    "collapsed": true
   },
   "outputs": [],
   "source": []
  },
  {
   "cell_type": "markdown",
   "metadata": {},
   "source": [
    "<h1> Sorted Data </h1>"
   ]
  },
  {
   "cell_type": "code",
   "execution_count": 16,
   "metadata": {
    "collapsed": false
   },
   "outputs": [
    {
     "data": {
      "text/plain": [
       "array([[ 10.83333333,   8.33333333,   7.5       ,   5.83333333,\n",
       "          5.        ,   3.33333333,   2.5       ,   0.        ],\n",
       "       [  8.33333333,  10.        ,   5.        ,   3.33333333,\n",
       "          6.66666667,   5.        ,   0.        ,   1.66666667],\n",
       "       [  7.5       ,   5.        ,   8.92857143,   2.5       ,\n",
       "          6.42857143,   0.        ,   3.92857143,   1.42857143],\n",
       "       [  5.83333333,   3.33333333,   2.5       ,   7.08333333,\n",
       "          0.        ,   4.58333333,   3.75      ,   1.25      ],\n",
       "       [  5.        ,   6.66666667,   6.42857143,   0.        ,\n",
       "          8.0952381 ,   1.66666667,   1.42857143,   3.0952381 ],\n",
       "       [  3.33333333,   5.        ,   0.        ,   4.58333333,\n",
       "          1.66666667,   6.25      ,   1.25      ,   2.91666667],\n",
       "       [  2.5       ,   0.        ,   3.92857143,   3.75      ,\n",
       "          1.42857143,   1.25      ,   5.17857143,   2.67857143],\n",
       "       [  0.        ,   1.66666667,   1.42857143,   1.25      ,\n",
       "          3.0952381 ,   2.91666667,   2.67857143,   4.3452381 ]])"
      ]
     },
     "execution_count": 16,
     "metadata": {},
     "output_type": "execute_result"
    }
   ],
   "source": [
    "stotal_score = []\n",
    "# target\n",
    "for i in xrange(len(sortdata)):\n",
    "    score = []\n",
    "    # comparison data\n",
    "    for j in xrange(len(sortdata)):\n",
    "        score.append(calculate_relation_score(sortdata[j], sortdata[i]))\n",
    "    stotal_score.append(np.array(score))\n",
    "stotal_score = np.array(stotal_score).T\n",
    "stotal_score"
   ]
  },
  {
   "cell_type": "code",
   "execution_count": 17,
   "metadata": {
    "collapsed": false,
    "scrolled": true
   },
   "outputs": [
    {
     "data": {
      "text/plain": [
       "array([[1, 2, 3, 4, 5, 6, 7, 8],\n",
       "       [2, 1, 1, 1, 2, 2, 3, 5],\n",
       "       [3, 5, 5, 6, 3, 4, 4, 6],\n",
       "       [4, 6, 2, 7, 1, 1, 8, 7],\n",
       "       [5, 3, 7, 2, 8, 8, 1, 2],\n",
       "       [6, 4, 4, 3, 6, 5, 5, 3],\n",
       "       [7, 8, 8, 8, 7, 7, 6, 4],\n",
       "       [8, 7, 6, 5, 4, 3, 2, 1]])"
      ]
     },
     "execution_count": 17,
     "metadata": {},
     "output_type": "execute_result"
    }
   ],
   "source": [
    "stotal_index = []\n",
    "for i in xrange(len(stotal_score.T)):\n",
    "    index = stotal_score.T[i].argsort()[::-1]+1\n",
    "    stotal_index.append(np.array(index))\n",
    "stotal_index = np.array(stotal_index).T\n",
    "stotal_index"
   ]
  },
  {
   "cell_type": "code",
   "execution_count": 18,
   "metadata": {
    "collapsed": false
   },
   "outputs": [
    {
     "data": {
      "text/plain": [
       "array([[1, 2, 2, 2, 4, 4, 5, 8],\n",
       "       [2, 1, 4, 5, 2, 2, 8, 5],\n",
       "       [3, 5, 1, 6, 3, 8, 2, 6],\n",
       "       [4, 6, 6, 1, 8, 3, 3, 7],\n",
       "       [5, 3, 3, 8, 1, 6, 6, 2],\n",
       "       [6, 4, 8, 3, 6, 1, 7, 3],\n",
       "       [7, 8, 5, 4, 7, 7, 1, 4],\n",
       "       [8, 7, 7, 7, 5, 5, 4, 1]])"
      ]
     },
     "execution_count": 18,
     "metadata": {},
     "output_type": "execute_result"
    }
   ],
   "source": [
    "stotal_rank = []\n",
    "for i in xrange(len(stotal_index.T)):\n",
    "    rank = stotal_index.T[i].argsort()+1\n",
    "    stotal_rank.append(np.array(rank))\n",
    "stotal_rank = np.array(stotal_rank).T\n",
    "stotal_rank"
   ]
  },
  {
   "cell_type": "code",
   "execution_count": null,
   "metadata": {
    "collapsed": true
   },
   "outputs": [],
   "source": []
  }
 ],
 "metadata": {
  "kernelspec": {
   "display_name": "Python 2",
   "language": "python",
   "name": "python2"
  },
  "language_info": {
   "codemirror_mode": {
    "name": "ipython",
    "version": 2
   },
   "file_extension": ".py",
   "mimetype": "text/x-python",
   "name": "python",
   "nbconvert_exporter": "python",
   "pygments_lexer": "ipython2",
   "version": "2.7.13"
  }
 },
 "nbformat": 4,
 "nbformat_minor": 2
}
