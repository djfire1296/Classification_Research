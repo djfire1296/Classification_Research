{
 "cells": [
  {
   "cell_type": "markdown",
   "metadata": {
    "deletable": true,
    "editable": true
   },
   "source": [
    "<h1> Libraries </h1>"
   ]
  },
  {
   "cell_type": "code",
   "execution_count": 1,
   "metadata": {
    "collapsed": true,
    "deletable": true,
    "editable": true
   },
   "outputs": [],
   "source": [
    "# basic libraries\n",
    "import os\n",
    "import time\n",
    "import math\n",
    "\n",
    "import numpy as np\n",
    "import pandas as pd\n",
    "import datetime\n",
    "\n",
    "from datetime import datetime as ddt\n",
    "from datetime import date\n",
    "import matplotlib.pylab as plt"
   ]
  },
  {
   "cell_type": "code",
   "execution_count": 2,
   "metadata": {
    "collapsed": true,
    "deletable": true,
    "editable": true
   },
   "outputs": [],
   "source": [
    "# pyspark related\n",
    "from pyspark import SparkContext, SparkConf\n",
    "sc = SparkContext('local[*]', 'PySpark')"
   ]
  },
  {
   "cell_type": "code",
   "execution_count": 3,
   "metadata": {
    "collapsed": false,
    "deletable": true,
    "editable": true
   },
   "outputs": [
    {
     "data": {
      "text/plain": [
       "u'local[*]'"
      ]
     },
     "execution_count": 3,
     "metadata": {},
     "output_type": "execute_result"
    }
   ],
   "source": [
    "sc.master"
   ]
  },
  {
   "cell_type": "code",
   "execution_count": 4,
   "metadata": {
    "collapsed": true,
    "deletable": true,
    "editable": true
   },
   "outputs": [],
   "source": [
    "# spark sql related\n",
    "from pyspark.sql import DataFrameWriter, SQLContext, Row\n",
    "from pyspark.sql.types import *\n",
    "from pyspark.sql.functions import col\n",
    "sqlContext = SQLContext(sc)\n",
    "sql = sqlContext.sql"
   ]
  },
  {
   "cell_type": "code",
   "execution_count": 5,
   "metadata": {
    "collapsed": true,
    "deletable": true,
    "editable": true
   },
   "outputs": [],
   "source": [
    "# spark maching learning related\n",
    "from pyspark.ml import Pipeline\n",
    "from pyspark.ml.feature import StandardScaler, VectorAssembler\n",
    "from pyspark.ml.clustering import KMeans"
   ]
  },
  {
   "cell_type": "code",
   "execution_count": 6,
   "metadata": {
    "collapsed": true,
    "deletable": true,
    "editable": true
   },
   "outputs": [],
   "source": [
    "# plot figure related\n",
    "import matplotlib as mpl\n",
    "import matplotlib.pyplot as plt\n",
    "import matplotlib.dates as md\n",
    "from pylab import *\n",
    "%matplotlib inline"
   ]
  },
  {
   "cell_type": "code",
   "execution_count": 7,
   "metadata": {
    "collapsed": true,
    "deletable": true,
    "editable": true
   },
   "outputs": [],
   "source": [
    "add = lambda x, y: x+y"
   ]
  },
  {
   "cell_type": "code",
   "execution_count": null,
   "metadata": {
    "collapsed": true,
    "deletable": true,
    "editable": true
   },
   "outputs": [],
   "source": []
  },
  {
   "cell_type": "markdown",
   "metadata": {
    "deletable": true,
    "editable": true
   },
   "source": [
    "<h1> Get Data </h1>"
   ]
  },
  {
   "cell_type": "code",
   "execution_count": 8,
   "metadata": {
    "collapsed": true,
    "deletable": true,
    "editable": true
   },
   "outputs": [],
   "source": [
    "# http://archive.ics.uci.edu/ml/datasets/Zoo\n",
    "txtRDD = sc.textFile('zoo_data.csv').map(lambda z: z.split(','))"
   ]
  },
  {
   "cell_type": "code",
   "execution_count": 9,
   "metadata": {
    "collapsed": false,
    "deletable": true,
    "editable": true
   },
   "outputs": [
    {
     "name": "stdout",
     "output_type": "stream",
     "text": [
      "[u'aardvark', u'1', u'0', u'0', u'1', u'0', u'0', u'1', u'1', u'1', u'1', u'0', u'0', u'4', u'0', u'0', u'1', u'1']\n"
     ]
    }
   ],
   "source": [
    "# name, hair, feathers, eggs, milk, airborne, aquatic, predator, toothed, backbone, breathes, venomous, fins\n",
    "# legs, tail, domestic, catsize, type\n",
    "print txtRDD.first()"
   ]
  },
  {
   "cell_type": "code",
   "execution_count": null,
   "metadata": {
    "collapsed": true,
    "deletable": true,
    "editable": true
   },
   "outputs": [],
   "source": []
  },
  {
   "cell_type": "markdown",
   "metadata": {
    "deletable": true,
    "editable": true
   },
   "source": [
    "<h1> Breif Survey </h1>"
   ]
  },
  {
   "cell_type": "code",
   "execution_count": 10,
   "metadata": {
    "collapsed": false,
    "deletable": true,
    "editable": true
   },
   "outputs": [
    {
     "name": "stdout",
     "output_type": "stream",
     "text": [
      "total 101 data\n"
     ]
    }
   ],
   "source": [
    "# count number of data\n",
    "txtnum = txtRDD.count()\n",
    "print \"total {} data\".format(txtnum)"
   ]
  },
  {
   "cell_type": "code",
   "execution_count": null,
   "metadata": {
    "collapsed": true,
    "deletable": true,
    "editable": true
   },
   "outputs": [],
   "source": []
  },
  {
   "cell_type": "markdown",
   "metadata": {
    "deletable": true,
    "editable": true
   },
   "source": [
    "<h1> Clean Data </h1>"
   ]
  },
  {
   "cell_type": "code",
   "execution_count": 11,
   "metadata": {
    "collapsed": false,
    "deletable": true,
    "editable": true
   },
   "outputs": [
    {
     "data": {
      "text/plain": [
       "[u'aardvark', 1, 0, 0, 1, 0, 0, 1, 1, 1, 1, 0, 0, 4, 0, 0, 1, 1]"
      ]
     },
     "execution_count": 11,
     "metadata": {},
     "output_type": "execute_result"
    }
   ],
   "source": [
    "[int(x) if i != 0 else x for i, x in enumerate(txtRDD.first())]"
   ]
  },
  {
   "cell_type": "code",
   "execution_count": 12,
   "metadata": {
    "collapsed": true,
    "deletable": true,
    "editable": true
   },
   "outputs": [],
   "source": [
    "# Usage: clean data directly after read data\n",
    "# Output: return a Row\n",
    "def cleanDataToRow(a):\n",
    "    al = [int(x) if i != 0 else x for i, x in enumerate(a)]\n",
    "    return Row(\n",
    "        name = al[0], hair = al[1], feathers = al[2], eggs = al[3], milk = al[4], airborne = al[5],\n",
    "        aquatic = al[6], predator = al[7], toothed = al[8], backbone = al[9], breathes = al[10],\n",
    "        venomous = al[11], fins = al[12], legs = al[13], tail = al[14], domestic = al[15], catsize = al[16],\n",
    "        category = al[17]\n",
    "    )"
   ]
  },
  {
   "cell_type": "code",
   "execution_count": 13,
   "metadata": {
    "collapsed": true,
    "deletable": true,
    "editable": true
   },
   "outputs": [],
   "source": [
    "# Usage: get Boolean data directly after read data\n",
    "# Output: return a numpy array\n",
    "def getBooleanData(a):\n",
    "    return np.array([int(x) for i, x in enumerate(a) if i not in [0, 13, 17]])"
   ]
  },
  {
   "cell_type": "code",
   "execution_count": null,
   "metadata": {
    "collapsed": true,
    "deletable": true,
    "editable": true
   },
   "outputs": [],
   "source": []
  },
  {
   "cell_type": "markdown",
   "metadata": {
    "deletable": true,
    "editable": true
   },
   "source": [
    "<h1> Calculate Each Percentage </h1>"
   ]
  },
  {
   "cell_type": "code",
   "execution_count": 14,
   "metadata": {
    "collapsed": true,
    "deletable": true,
    "editable": true
   },
   "outputs": [],
   "source": [
    "totalnum = txtRDD.map(getBooleanData).aggregate(np.zeros(15, np.int), add, add)"
   ]
  },
  {
   "cell_type": "code",
   "execution_count": 15,
   "metadata": {
    "collapsed": false,
    "deletable": true,
    "editable": true
   },
   "outputs": [
    {
     "data": {
      "text/plain": [
       "array([43, 20, 59, 41, 24, 36, 56, 61, 83, 80,  8, 17, 75, 13, 44])"
      ]
     },
     "execution_count": 15,
     "metadata": {},
     "output_type": "execute_result"
    }
   ],
   "source": [
    "totalnum"
   ]
  },
  {
   "cell_type": "code",
   "execution_count": 16,
   "metadata": {
    "collapsed": false,
    "deletable": true,
    "editable": true
   },
   "outputs": [
    {
     "data": {
      "text/plain": [
       "array([ 0.42574257,  0.1980198 ,  0.58415842,  0.40594059,  0.23762376,\n",
       "        0.35643564,  0.55445545,  0.6039604 ,  0.82178218,  0.79207921,\n",
       "        0.07920792,  0.16831683,  0.74257426,  0.12871287,  0.43564356])"
      ]
     },
     "execution_count": 16,
     "metadata": {},
     "output_type": "execute_result"
    }
   ],
   "source": [
    "y_percentage = totalnum / float(txtnum)\n",
    "y_percentage"
   ]
  },
  {
   "cell_type": "code",
   "execution_count": 17,
   "metadata": {
    "collapsed": false,
    "deletable": true,
    "editable": true
   },
   "outputs": [
    {
     "data": {
      "text/plain": [
       "array([ 0.57425743,  0.8019802 ,  0.41584158,  0.59405941,  0.76237624,\n",
       "        0.64356436,  0.44554455,  0.3960396 ,  0.17821782,  0.20792079,\n",
       "        0.92079208,  0.83168317,  0.25742574,  0.87128713,  0.56435644])"
      ]
     },
     "execution_count": 17,
     "metadata": {},
     "output_type": "execute_result"
    }
   ],
   "source": [
    "n_percentage = 1 - y_percentage\n",
    "n_percentage"
   ]
  },
  {
   "cell_type": "code",
   "execution_count": null,
   "metadata": {
    "collapsed": true,
    "deletable": true,
    "editable": true
   },
   "outputs": [],
   "source": []
  },
  {
   "cell_type": "markdown",
   "metadata": {
    "deletable": true,
    "editable": true
   },
   "source": [
    "<h1> Initiallize Weight </h1>"
   ]
  },
  {
   "cell_type": "code",
   "execution_count": 18,
   "metadata": {
    "collapsed": false,
    "deletable": true,
    "editable": true
   },
   "outputs": [
    {
     "data": {
      "text/plain": [
       "array([  2.34883721,   5.05      ,   1.71186441,   2.46341463,\n",
       "         4.20833333,   2.80555556,   1.80357143,   1.6557377 ,\n",
       "         1.21686747,   1.2625    ,  12.625     ,   5.94117647,\n",
       "         1.34666667,   7.76923077,   2.29545455])"
      ]
     },
     "execution_count": 18,
     "metadata": {},
     "output_type": "execute_result"
    }
   ],
   "source": [
    "y_weight = 1 / y_percentage\n",
    "y_weight"
   ]
  },
  {
   "cell_type": "code",
   "execution_count": 19,
   "metadata": {
    "collapsed": false,
    "deletable": true,
    "editable": true
   },
   "outputs": [
    {
     "data": {
      "text/plain": [
       "array([ 1.74137931,  1.24691358,  2.4047619 ,  1.68333333,  1.31168831,\n",
       "        1.55384615,  2.24444444,  2.525     ,  5.61111111,  4.80952381,\n",
       "        1.08602151,  1.20238095,  3.88461538,  1.14772727,  1.77192982])"
      ]
     },
     "execution_count": 19,
     "metadata": {},
     "output_type": "execute_result"
    }
   ],
   "source": [
    "n_weight = 1 / n_percentage\n",
    "n_weight"
   ]
  },
  {
   "cell_type": "code",
   "execution_count": null,
   "metadata": {
    "collapsed": true,
    "deletable": true,
    "editable": true
   },
   "outputs": [],
   "source": []
  },
  {
   "cell_type": "markdown",
   "metadata": {
    "deletable": true,
    "editable": true
   },
   "source": [
    "<h1> Calculate Each Initial Score </h1>"
   ]
  },
  {
   "cell_type": "code",
   "execution_count": 20,
   "metadata": {
    "collapsed": false,
    "deletable": true,
    "editable": true
   },
   "outputs": [],
   "source": [
    "# y_score, n_score\n",
    "scoreRDD = txtRDD.map(getBooleanData).map(lambda a: (np.dot(y_weight, a), np.dot(n_weight, np.ones(15, np.int) - a)))"
   ]
  },
  {
   "cell_type": "code",
   "execution_count": 21,
   "metadata": {
    "collapsed": false,
    "deletable": true,
    "editable": true
   },
   "outputs": [
    {
     "data": {
      "text/plain": [
       "(13.046382992272193, 13.837955065643238)"
      ]
     },
     "execution_count": 21,
     "metadata": {},
     "output_type": "execute_result"
    }
   ],
   "source": [
    "scoreRDD.first()"
   ]
  },
  {
   "cell_type": "code",
   "execution_count": null,
   "metadata": {
    "collapsed": true,
    "deletable": true,
    "editable": true
   },
   "outputs": [],
   "source": []
  },
  {
   "cell_type": "markdown",
   "metadata": {
    "deletable": true,
    "editable": true
   },
   "source": [
    "<h1> Find Closest Relation </h1>"
   ]
  },
  {
   "cell_type": "code",
   "execution_count": 22,
   "metadata": {
    "collapsed": true
   },
   "outputs": [],
   "source": [
    "def find_targetdata(targetname):\n",
    "    target = txtRDD.filter(lambda x: targetname in x[0]).first()\n",
    "    return np.array([int(x) for i, x in enumerate(target) if i not in [0, 13, 17]])"
   ]
  },
  {
   "cell_type": "code",
   "execution_count": 23,
   "metadata": {
    "collapsed": true,
    "deletable": true,
    "editable": true
   },
   "outputs": [],
   "source": [
    "def calculate_relation_score(a_t, t):\n",
    "    a_conj = np.ones(15, np.int) - a_t\n",
    "    y_score = np.dot(y_weight, (t - a_conj) == 1)\n",
    "    n_score = np.dot(n_weight, (t - a_conj) == -1)\n",
    "    return y_score + n_score"
   ]
  },
  {
   "cell_type": "code",
   "execution_count": 24,
   "metadata": {
    "collapsed": true,
    "deletable": true,
    "editable": true
   },
   "outputs": [],
   "source": [
    "def relation_score_list(td):\n",
    "    return txtRDD.map(lambda a: ((a[0], a[-1]), getBooleanData(a))) \\\n",
    "                 .map(lambda (x, y): (calculate_relation_score(y, td), x)) \\\n",
    "                 .sortByKey(False).map(lambda (x, y): (y, x)).collect()"
   ]
  },
  {
   "cell_type": "code",
   "execution_count": 25,
   "metadata": {
    "collapsed": true,
    "deletable": true,
    "editable": true
   },
   "outputs": [],
   "source": [
    "def print_rsl(rsl, thresold=0.0):\n",
    "    print \"id. {:>10}\\t{:>4}\\t{:13}\\t{:8}\".format('name', 'type', 'scores', 'relation')\n",
    "    for i, x in enumerate(rsl):\n",
    "        rp = x[1]*100.0/rsl[0][1]\n",
    "        if rp >= thresold*100:\n",
    "            print \"{:>2}. {:>10}\\t{:>4}\\t{:13}\\t{:.2f}%\".format(i+1, x[0][0], x[0][1], str(x[1]), rp)"
   ]
  },
  {
   "cell_type": "code",
   "execution_count": 26,
   "metadata": {
    "collapsed": true,
    "deletable": true,
    "editable": true
   },
   "outputs": [],
   "source": [
    "def plot_relation_distribution(rsl):\n",
    "    relation_category = [(i, x[0][1]) for i, x in enumerate(rsl)]\n",
    "\n",
    "    fig = plt.figure(figsize=(9, 6))\n",
    "    dis = fig.add_subplot(211)\n",
    "    rel = fig.add_subplot(212)\n",
    "\n",
    "    dis.plot([y for (x,y) in relation_category], 'o')\n",
    "    rel.plot([y / rsl[0][1] for (x,y) in rsl])\n",
    "    plt.show()"
   ]
  },
  {
   "cell_type": "code",
   "execution_count": null,
   "metadata": {
    "collapsed": true,
    "deletable": true,
    "editable": true
   },
   "outputs": [],
   "source": []
  },
  {
   "cell_type": "markdown",
   "metadata": {
    "deletable": true,
    "editable": true
   },
   "source": [
    "<h2> Type Four Test by Piranha </h2>"
   ]
  },
  {
   "cell_type": "code",
   "execution_count": 27,
   "metadata": {
    "collapsed": false,
    "deletable": true,
    "editable": true
   },
   "outputs": [
    {
     "data": {
      "text/plain": [
       "array([0, 0, 1, 0, 0, 1, 1, 1, 1, 0, 0, 1, 1, 0, 0])"
      ]
     },
     "execution_count": 27,
     "metadata": {},
     "output_type": "execute_result"
    }
   ],
   "source": [
    "piranha_targetdata = find_targetdata('piranha')\n",
    "piranha_targetdata"
   ]
  },
  {
   "cell_type": "code",
   "execution_count": 28,
   "metadata": {
    "collapsed": false,
    "deletable": true,
    "editable": true
   },
   "outputs": [
    {
     "name": "stdout",
     "output_type": "stream",
     "text": [
      "id.       name\ttype\tscores       \trelation\n",
      " 1.       bass\t   4\t31.2799566508\t100.00%\n",
      " 2.    catfish\t   4\t31.2799566508\t100.00%\n",
      " 3.       chub\t   4\t31.2799566508\t100.00%\n",
      " 4.    herring\t   4\t31.2799566508\t100.00%\n",
      " 5.    piranha\t   4\t31.2799566508\t100.00%\n",
      " 6.    dogfish\t   4\t29.5080268262\t94.34%\n",
      " 7.       pike\t   4\t29.5080268262\t94.34%\n",
      " 8.       tuna\t   4\t29.5080268262\t94.34%\n",
      " 9.       sole\t   4\t29.4763852222\t94.23%\n",
      "10.    haddock\t   4\t29.4763852222\t94.23%\n",
      "11.   seahorse\t   4\t29.4763852222\t94.23%\n",
      "12.   stingray\t   4\t28.4220053208\t90.86%\n",
      "13.       carp\t   4\t28.3286579495\t90.56%\n",
      "14.   seasnake\t   3\t22.540894268 \t72.06%\n",
      "15.    dolphin\t   1\t21.3033052766\t68.11%\n",
      "16.   porpoise\t   1\t21.3033052766\t68.11%\n",
      "17.       crab\t   7\t21.1195083387\t67.52%\n",
      "18.   crayfish\t   7\t21.1195083387\t67.52%\n",
      "19.    lobster\t   7\t21.1195083387\t67.52%\n",
      "20.   starfish\t   7\t21.1195083387\t67.52%\n",
      "21.       newt\t   5\t20.5292563706\t65.63%\n",
      "22.    seawasp\t   7\t20.0334868333\t64.05%\n",
      "23.    sealion\t   1\t19.5619259662\t62.54%\n",
      "24.    octopus\t   7\t19.3475785141\t61.85%\n",
      "25.       frog\t   5\t19.182589704 \t61.33%\n",
      "26.       clam\t   7\t18.3139527832\t58.55%\n",
      "27.       seal\t   1\t18.2152592996\t58.23%\n",
      "28.       frog\t   5\t18.0965681986\t57.85%\n",
      "29.   slowworm\t   3\t17.7237008151\t56.66%\n",
      "30.    tuatara\t   3\t17.7237008151\t56.66%\n",
      "31.       toad\t   5\t17.3790182754\t55.56%\n",
      "32.   pitviper\t   3\t16.6376793097\t53.19%\n",
      "33.       gull\t   2\t16.3149167738\t52.16%\n",
      "34.    skimmer\t   2\t16.3149167738\t52.16%\n",
      "35.       skua\t   2\t16.3149167738\t52.16%\n",
      "36.    penguin\t   2\t15.8546752609\t50.69%\n"
     ]
    }
   ],
   "source": [
    "piranha_rsl = relation_score_list(piranha_targetdata)\n",
    "print_rsl(piranha_rsl, 0.5)"
   ]
  },
  {
   "cell_type": "code",
   "execution_count": 29,
   "metadata": {
    "collapsed": false,
    "deletable": true,
    "editable": true
   },
   "outputs": [
    {
     "data": {
      "image/png": "[encoded data removed]",
      "text/plain": [
       "<matplotlib.figure.Figure at 0x109102690>"
      ]
     },
     "metadata": {},
     "output_type": "display_data"
    }
   ],
   "source": [
    "plot_relation_distribution(piranha_rsl)"
   ]
  },
  {
   "cell_type": "code",
   "execution_count": null,
   "metadata": {
    "collapsed": true,
    "deletable": true,
    "editable": true
   },
   "outputs": [],
   "source": []
  },
  {
   "cell_type": "markdown",
   "metadata": {
    "deletable": true,
    "editable": true
   },
   "source": [
    "<h2> Type One Test by Lion </h2>"
   ]
  },
  {
   "cell_type": "code",
   "execution_count": 30,
   "metadata": {
    "collapsed": false,
    "deletable": true,
    "editable": true
   },
   "outputs": [
    {
     "data": {
      "text/plain": [
       "array([1, 0, 0, 1, 0, 0, 1, 1, 1, 1, 0, 0, 1, 0, 1])"
      ]
     },
     "execution_count": 30,
     "metadata": {},
     "output_type": "execute_result"
    }
   ],
   "source": [
    "lion_targetdata = find_targetdata('lion')\n",
    "lion_targetdata"
   ]
  },
  {
   "cell_type": "code",
   "execution_count": 31,
   "metadata": {
    "collapsed": false,
    "deletable": true,
    "editable": true
   },
   "outputs": [
    {
     "name": "stdout",
     "output_type": "stream",
     "text": [
      "id.       name\ttype\tscores       \trelation\n",
      " 1.       boar\t   1\t24.34638934  \t100.00%\n",
      " 2.    cheetah\t   1\t24.34638934  \t100.00%\n",
      " 3.    leopard\t   1\t24.34638934  \t100.00%\n",
      " 4.       lion\t   1\t24.34638934  \t100.00%\n",
      " 5.       lynx\t   1\t24.34638934  \t100.00%\n",
      " 6.   mongoose\t   1\t24.34638934  \t100.00%\n",
      " 7.    polecat\t   1\t24.34638934  \t100.00%\n",
      " 8.       puma\t   1\t24.34638934  \t100.00%\n",
      " 9.    raccoon\t   1\t24.34638934  \t100.00%\n",
      "10.       wolf\t   1\t24.34638934  \t100.00%\n",
      "11.   pussycat\t   1\t23.1986620672\t95.29%\n",
      "12.   aardvark\t   1\t22.9997226733\t94.47%\n",
      "13.       bear\t   1\t22.9997226733\t94.47%\n",
      "14.       mink\t   1\t22.7925431861\t93.62%\n",
      "15.   antelope\t   1\t22.5428179114\t92.59%\n",
      "16.    buffalo\t   1\t22.5428179114\t92.59%\n",
      "17.       deer\t   1\t22.5428179114\t92.59%\n",
      "18.   elephant\t   1\t22.5428179114\t92.59%\n",
      "19.    giraffe\t   1\t22.5428179114\t92.59%\n",
      "20.       oryx\t   1\t22.5428179114\t92.59%\n",
      "21.    wallaby\t   1\t22.5428179114\t92.59%\n",
      "22.       mole\t   1\t22.0509347945\t90.57%\n",
      "23.    opossum\t   1\t22.0509347945\t90.57%\n",
      "24.       girl\t   1\t21.8519954006\t89.75%\n",
      "25.    sealion\t   1\t21.5901622337\t88.68%\n",
      "26.       calf\t   1\t21.3950906387\t87.88%\n",
      "27.       goat\t   1\t21.3950906387\t87.88%\n",
      "28.       pony\t   1\t21.3950906387\t87.88%\n",
      "29.   reindeer\t   1\t21.3950906387\t87.88%\n",
      "30.    gorilla\t   1\t21.1961512447\t87.06%\n",
      "31.       hare\t   1\t20.2473633659\t83.16%\n",
      "32.   squirrel\t   1\t20.2473633659\t83.16%\n",
      "33.       vole\t   1\t20.2473633659\t83.16%\n",
      "34.       seal\t   1\t20.2434955671\t83.15%\n",
      "35.    dolphin\t   1\t19.2413250244\t79.03%\n",
      "36.   porpoise\t   1\t19.2413250244\t79.03%\n",
      "37.    hamster\t   1\t19.0996360932\t78.45%\n",
      "38.   fruitbat\t   1\t18.9356750543\t77.78%\n",
      "39.    vampire\t   1\t18.9356750543\t77.78%\n",
      "40.   platypus\t   1\t18.7320435764\t76.94%\n",
      "41.       cavy\t   1\t17.7529694265\t72.92%\n",
      "42.   slowworm\t   3\t14.8339210463\t60.93%\n",
      "43.    tuatara\t   3\t14.8339210463\t60.93%\n",
      "44.       rhea\t   2\t14.2267243066\t58.43%\n",
      "45.   pitviper\t   3\t13.7478995409\t56.47%\n",
      "46.   tortoise\t   3\t13.6700664583\t56.15%\n",
      "47.   seasnake\t   3\t13.3363152918\t54.78%\n",
      "48.       newt\t   5\t13.2800748925\t54.55%\n",
      "49.   scorpion\t   7\t13.2800562709\t54.55%\n",
      "50.    dogfish\t   4\t13.1106484855\t53.85%\n",
      "51.       pike\t   4\t13.1106484855\t53.85%\n",
      "52.       tuna\t   4\t13.1106484855\t53.85%\n",
      "53.    vulture\t   2\t12.9150359949\t53.05%\n",
      "54.    penguin\t   2\t12.6728781527\t52.05%\n",
      "55.    ostrich\t   2\t12.423152878 \t51.03%\n"
     ]
    }
   ],
   "source": [
    "lion_rsl = relation_score_list(lion_targetdata)\n",
    "print_rsl(lion_rsl, 0.5)"
   ]
  },
  {
   "cell_type": "code",
   "execution_count": 32,
   "metadata": {
    "collapsed": false,
    "deletable": true,
    "editable": true,
    "scrolled": false
   },
   "outputs": [
    {
     "data": {
      "image/png": "[encoded data removed]",
      "text/plain": [
       "<matplotlib.figure.Figure at 0x109245e50>"
      ]
     },
     "metadata": {},
     "output_type": "display_data"
    }
   ],
   "source": [
    "plot_relation_distribution(lion_rsl)"
   ]
  },
  {
   "cell_type": "code",
   "execution_count": null,
   "metadata": {
    "collapsed": true,
    "deletable": true,
    "editable": true
   },
   "outputs": [],
   "source": []
  },
  {
   "cell_type": "markdown",
   "metadata": {
    "deletable": true,
    "editable": true
   },
   "source": [
    "<h2> Type Three Test by Seasnake </h2>"
   ]
  },
  {
   "cell_type": "code",
   "execution_count": 33,
   "metadata": {
    "collapsed": false,
    "deletable": true,
    "editable": true
   },
   "outputs": [
    {
     "data": {
      "text/plain": [
       "array([0, 0, 0, 0, 0, 1, 1, 1, 1, 0, 1, 0, 1, 0, 0])"
      ]
     },
     "execution_count": 33,
     "metadata": {},
     "output_type": "execute_result"
    }
   ],
   "source": [
    "seasnake_targetdata = find_targetdata('seasnake')\n",
    "seasnake_targetdata"
   ]
  },
  {
   "cell_type": "code",
   "execution_count": 34,
   "metadata": {
    "collapsed": false,
    "deletable": true,
    "editable": true
   },
   "outputs": [],
   "source": [
    "seasnake_rsl = relation_score_list(seasnake_targetdata)"
   ]
  },
  {
   "cell_type": "code",
   "execution_count": 35,
   "metadata": {
    "collapsed": false,
    "deletable": true,
    "editable": true
   },
   "outputs": [
    {
     "name": "stdout",
     "output_type": "stream",
     "text": [
      "id.       name\ttype\tscores       \trelation\n",
      " 1.   seasnake\t   3\t38.7730371252\t100.00%\n",
      " 2.   stingray\t   4\t33.3939644435\t86.13%\n",
      " 3.    seawasp\t   7\t32.1490033789\t82.92%\n",
      " 4.       frog\t   5\t30.2120847442\t77.92%\n",
      " 5.   pitviper\t   3\t28.7531958553\t74.16%\n",
      " 6.   scorpion\t   7\t28.2853525853\t72.95%\n",
      " 7.    piranha\t   4\t22.540894268 \t58.14%\n",
      " 8.       bass\t   4\t22.540894268 \t58.14%\n",
      " 9.    catfish\t   4\t22.540894268 \t58.14%\n",
      "10.       chub\t   4\t22.540894268 \t58.14%\n",
      "11.    herring\t   4\t22.540894268 \t58.14%\n",
      "12.    dogfish\t   4\t20.7689644435\t53.57%\n",
      "13.       pike\t   4\t20.7689644435\t53.57%\n",
      "14.       tuna\t   4\t20.7689644435\t53.57%\n",
      "15.    haddock\t   4\t20.7373228394\t53.48%\n",
      "16.   seahorse\t   4\t20.7373228394\t53.48%\n",
      "17.       sole\t   4\t20.7373228394\t53.48%\n",
      "18.       wasp\t   6\t19.6772849632\t50.75%\n",
      "19.       carp\t   4\t19.5895955667\t50.52%\n",
      "20.       crab\t   7\t19.5240033789\t50.35%\n",
      "21.   crayfish\t   7\t19.5240033789\t50.35%\n",
      "22.    lobster\t   7\t19.5240033789\t50.35%\n",
      "23.   starfish\t   7\t19.5240033789\t50.35%\n"
     ]
    }
   ],
   "source": [
    "# pitviper(5), seasnake(1), slowworm(32), tortoise(76), tuatara(33)\n",
    "print_rsl(seasnake_rsl, 0.5)"
   ]
  },
  {
   "cell_type": "code",
   "execution_count": 36,
   "metadata": {
    "collapsed": false,
    "deletable": true,
    "editable": true
   },
   "outputs": [
    {
     "data": {
      "image/png": "[encoded data removed]",
      "text/plain": [
       "<matplotlib.figure.Figure at 0x10955ec50>"
      ]
     },
     "metadata": {},
     "output_type": "display_data"
    }
   ],
   "source": [
    "plot_relation_distribution(seasnake_rsl)"
   ]
  },
  {
   "cell_type": "code",
   "execution_count": null,
   "metadata": {
    "collapsed": true
   },
   "outputs": [],
   "source": []
  },
  {
   "cell_type": "markdown",
   "metadata": {
    "deletable": true,
    "editable": true
   },
   "source": [
    "<h1> Research Type 3 </h1>"
   ]
  },
  {
   "cell_type": "code",
   "execution_count": 37,
   "metadata": {
    "collapsed": true,
    "deletable": true,
    "editable": true
   },
   "outputs": [],
   "source": [
    "dataset = sqlContext.createDataFrame(txtRDD.map(cleanDataToRow))"
   ]
  },
  {
   "cell_type": "code",
   "execution_count": 38,
   "metadata": {
    "collapsed": false,
    "deletable": true,
    "editable": true
   },
   "outputs": [
    {
     "name": "stdout",
     "output_type": "stream",
     "text": [
      "+--------+-------+--------+--------+--------+-------+--------+----+--------+----+----+----+----+--------+--------+----+-------+--------+\n",
      "|airborne|aquatic|backbone|breathes|category|catsize|domestic|eggs|feathers|fins|hair|legs|milk|    name|predator|tail|toothed|venomous|\n",
      "+--------+-------+--------+--------+--------+-------+--------+----+--------+----+----+----+----+--------+--------+----+-------+--------+\n",
      "|       0|      0|       1|       1|       1|      1|       0|   0|       0|   0|   1|   4|   1|aardvark|       1|   0|      1|       0|\n",
      "|       0|      0|       1|       1|       1|      1|       0|   0|       0|   0|   1|   4|   1|antelope|       0|   1|      1|       0|\n",
      "|       0|      1|       1|       0|       4|      0|       0|   1|       0|   1|   0|   0|   0|    bass|       1|   1|      1|       0|\n",
      "|       0|      0|       1|       1|       1|      1|       0|   0|       0|   0|   1|   4|   1|    bear|       1|   0|      1|       0|\n",
      "|       0|      0|       1|       1|       1|      1|       0|   0|       0|   0|   1|   4|   1|    boar|       1|   1|      1|       0|\n",
      "+--------+-------+--------+--------+--------+-------+--------+----+--------+----+----+----+----+--------+--------+----+-------+--------+\n",
      "only showing top 5 rows\n",
      "\n"
     ]
    }
   ],
   "source": [
    "dataset.show(5)"
   ]
  },
  {
   "cell_type": "code",
   "execution_count": 39,
   "metadata": {
    "collapsed": false,
    "deletable": true,
    "editable": true
   },
   "outputs": [
    {
     "name": "stdout",
     "output_type": "stream",
     "text": [
      "+--------+-------+--------+--------+--------+-------+--------+----+--------+----+----+----+----+--------+--------+----+-------+--------+\n",
      "|airborne|aquatic|backbone|breathes|category|catsize|domestic|eggs|feathers|fins|hair|legs|milk|    name|predator|tail|toothed|venomous|\n",
      "+--------+-------+--------+--------+--------+-------+--------+----+--------+----+----+----+----+--------+--------+----+-------+--------+\n",
      "|       0|      0|       1|       1|       3|      0|       0|   1|       0|   0|   0|   0|   0|pitviper|       1|   1|      1|       1|\n",
      "|       0|      1|       1|       0|       3|      0|       0|   0|       0|   0|   0|   0|   0|seasnake|       1|   1|      1|       1|\n",
      "|       0|      0|       1|       1|       3|      0|       0|   1|       0|   0|   0|   0|   0|slowworm|       1|   1|      1|       0|\n",
      "|       0|      0|       1|       1|       3|      1|       0|   1|       0|   0|   0|   4|   0|tortoise|       0|   1|      0|       0|\n",
      "|       0|      0|       1|       1|       3|      0|       0|   1|       0|   0|   0|   4|   0| tuatara|       1|   1|      1|       0|\n",
      "+--------+-------+--------+--------+--------+-------+--------+----+--------+----+----+----+----+--------+--------+----+-------+--------+\n",
      "\n"
     ]
    }
   ],
   "source": [
    "dataset.filter(dataset['category'] == 3).show()"
   ]
  },
  {
   "cell_type": "code",
   "execution_count": 40,
   "metadata": {
    "collapsed": false,
    "deletable": true,
    "editable": true
   },
   "outputs": [
    {
     "name": "stdout",
     "output_type": "stream",
     "text": [
      "+--------+-------+--------+--------+--------+-------+--------+----+--------+----+----+----+----+--------+--------+----+-------+--------+\n",
      "|airborne|aquatic|backbone|breathes|category|catsize|domestic|eggs|feathers|fins|hair|legs|milk|    name|predator|tail|toothed|venomous|\n",
      "+--------+-------+--------+--------+--------+-------+--------+----+--------+----+----+----+----+--------+--------+----+-------+--------+\n",
      "|       0|      1|       1|       1|       5|      0|       0|   1|       0|   0|   0|   4|   0|    frog|       1|   0|      1|       1|\n",
      "|       1|      0|       0|       1|       6|      0|       1|   1|       0|   0|   1|   6|   0|honeybee|       0|   0|      0|       1|\n",
      "|       0|      0|       1|       1|       3|      0|       0|   1|       0|   0|   0|   0|   0|pitviper|       1|   1|      1|       1|\n",
      "|       0|      0|       0|       1|       7|      0|       0|   0|       0|   0|   0|   8|   0|scorpion|       1|   1|      0|       1|\n",
      "|       0|      1|       1|       0|       3|      0|       0|   0|       0|   0|   0|   0|   0|seasnake|       1|   1|      1|       1|\n",
      "|       0|      1|       0|       0|       7|      0|       0|   1|       0|   0|   0|   0|   0| seawasp|       1|   0|      0|       1|\n",
      "|       0|      1|       1|       0|       4|      1|       0|   1|       0|   1|   0|   0|   0|stingray|       1|   1|      1|       1|\n",
      "|       1|      0|       0|       1|       6|      0|       0|   1|       0|   0|   1|   6|   0|    wasp|       0|   0|      0|       1|\n",
      "+--------+-------+--------+--------+--------+-------+--------+----+--------+----+----+----+----+--------+--------+----+-------+--------+\n",
      "\n"
     ]
    }
   ],
   "source": [
    "dataset.filter(dataset['venomous'] == 1).show()"
   ]
  },
  {
   "cell_type": "code",
   "execution_count": null,
   "metadata": {
    "collapsed": true
   },
   "outputs": [],
   "source": []
  },
  {
   "cell_type": "markdown",
   "metadata": {},
   "source": [
    "<h2> Type 3 Test by Tortoise </h2>"
   ]
  },
  {
   "cell_type": "code",
   "execution_count": 41,
   "metadata": {
    "collapsed": false
   },
   "outputs": [
    {
     "data": {
      "text/plain": [
       "array([0, 0, 1, 0, 0, 0, 0, 0, 1, 1, 0, 0, 1, 0, 1])"
      ]
     },
     "execution_count": 41,
     "metadata": {},
     "output_type": "execute_result"
    }
   ],
   "source": [
    "tortoise_targetdata = find_targetdata('tortoise')\n",
    "tortoise_targetdata"
   ]
  },
  {
   "cell_type": "code",
   "execution_count": 42,
   "metadata": {
    "collapsed": false
   },
   "outputs": [
    {
     "name": "stdout",
     "output_type": "stream",
     "text": [
      "id.       name\ttype\tscores       \trelation\n",
      " 1.   tortoise\t   3\t23.5760879532\t100.00%\n",
      " 2.    ostrich\t   2\t22.3291743729\t94.71%\n",
      " 3.   flamingo\t   2\t21.0174860612\t89.15%\n",
      " 4.       rhea\t   2\t20.0847299285\t85.19%\n",
      " 5.       swan\t   2\t19.4636399074\t82.56%\n",
      " 6.    vulture\t   2\t18.7730416168\t79.63%\n",
      " 7.       lark\t   2\t18.7220315158\t79.41%\n",
      " 8.   pheasant\t   2\t18.7220315158\t79.41%\n",
      " 9.    sparrow\t   2\t18.7220315158\t79.41%\n",
      "10.       wren\t   2\t18.7220315158\t79.41%\n",
      "11.       flea\t   6\t18.7170992712\t79.39%\n",
      "12.       slug\t   7\t18.7170992712\t79.39%\n",
      "13.    termite\t   6\t18.7170992712\t79.39%\n",
      "14.       worm\t   7\t18.7170992712\t79.39%\n",
      "15.    penguin\t   2\t18.5308837746\t78.60%\n",
      "16.       kiwi\t   2\t17.789275383 \t75.45%\n",
      "17.    chicken\t   2\t17.5743042431\t74.54%\n",
      "18.       dove\t   2\t17.5743042431\t74.54%\n",
      "19.   parakeet\t   2\t17.5743042431\t74.54%\n",
      "20.       gnat\t   6\t17.4054109595\t73.83%\n",
      "21.       duck\t   2\t17.1681853619\t72.82%\n",
      "22.   slowworm\t   3\t16.5111889633\t70.03%\n",
      "23.    tuatara\t   3\t16.5111889633\t70.03%\n",
      "24.       crow\t   2\t16.4775870713\t69.89%\n",
      "25.       hawk\t   2\t16.4775870713\t69.89%\n",
      "26.   platypus\t   1\t16.3530847112\t69.36%\n",
      "27.    octopus\t   7\t15.9517632183\t67.66%\n",
      "28.   antelope\t   1\t15.9145109027\t67.50%\n",
      "29.    buffalo\t   1\t15.9145109027\t67.50%\n",
      "30.       deer\t   1\t15.9145109027\t67.50%\n",
      "31.   elephant\t   1\t15.9145109027\t67.50%\n",
      "32.    giraffe\t   1\t15.9145109027\t67.50%\n",
      "33.       oryx\t   1\t15.9145109027\t67.50%\n",
      "34.    wallaby\t   1\t15.9145109027\t67.50%\n",
      "35.       toad\t   5\t15.8551205872\t67.25%\n",
      "36.   housefly\t   6\t15.6640316491\t66.44%\n",
      "37.       moth\t   6\t15.6640316491\t66.44%\n",
      "38.   pitviper\t   3\t15.4251674579\t65.43%\n",
      "39.       clam\t   7\t15.2101548267\t64.52%\n",
      "40.   ladybird\t   6\t15.160966515 \t64.31%\n",
      "41.   scorpion\t   7\t15.0214355812\t63.71%\n",
      "42.       newt\t   5\t14.9573428094\t63.44%\n",
      "43.       gull\t   2\t14.9237409175\t63.30%\n",
      "44.    skimmer\t   2\t14.9237409175\t63.30%\n",
      "45.       skua\t   2\t14.9237409175\t63.30%\n",
      "46.    dogfish\t   4\t14.7879164025\t62.72%\n",
      "47.       pike\t   4\t14.7879164025\t62.72%\n",
      "48.       tuna\t   4\t14.7879164025\t62.72%\n",
      "49.       calf\t   1\t14.76678363  \t62.63%\n",
      "50.       goat\t   1\t14.76678363  \t62.63%\n",
      "51.       pony\t   1\t14.76678363  \t62.63%\n",
      "52.   reindeer\t   1\t14.76678363  \t62.63%\n",
      "53.    haddock\t   4\t14.7369063015\t62.51%\n",
      "54.   seahorse\t   4\t14.7369063015\t62.51%\n",
      "55.       sole\t   4\t14.7369063015\t62.51%\n",
      "56.       wasp\t   6\t14.5780101438\t61.83%\n",
      "57.    gorilla\t   1\t14.567844236 \t61.79%\n",
      "58.   stingray\t   4\t13.7018948971\t58.12%\n",
      "59.       boar\t   1\t13.6700664583\t57.98%\n",
      "60.    cheetah\t   1\t13.6700664583\t57.98%\n",
      "61.    leopard\t   1\t13.6700664583\t57.98%\n",
      "62.       lion\t   1\t13.6700664583\t57.98%\n",
      "63.       lynx\t   1\t13.6700664583\t57.98%\n",
      "64.   mongoose\t   1\t13.6700664583\t57.98%\n",
      "65.    polecat\t   1\t13.6700664583\t57.98%\n",
      "66.       puma\t   1\t13.6700664583\t57.98%\n",
      "67.    raccoon\t   1\t13.6700664583\t57.98%\n",
      "68.       wolf\t   1\t13.6700664583\t57.98%\n",
      "69.       crab\t   7\t13.6563086729\t57.92%\n",
      "70.   crayfish\t   7\t13.6563086729\t57.92%\n",
      "71.    lobster\t   7\t13.6563086729\t57.92%\n",
      "72.   starfish\t   7\t13.6563086729\t57.92%\n",
      "73.       hare\t   1\t13.6190563573\t57.77%\n",
      "74.   squirrel\t   1\t13.6190563573\t57.77%\n",
      "75.       vole\t   1\t13.6190563573\t57.77%\n",
      "76.       frog\t   5\t13.6106761428\t57.73%\n",
      "77.       carp\t   4\t13.5891790288\t57.64%\n",
      "78.   honeybee\t   6\t13.430282871 \t56.97%\n",
      "79.    dolphin\t   1\t12.6552186624\t53.68%\n",
      "80.   porpoise\t   1\t12.6552186624\t53.68%\n",
      "81.    seawasp\t   7\t12.5702871675\t53.32%\n",
      "82.       frog\t   5\t12.5246546374\t53.12%\n",
      "83.   pussycat\t   1\t12.5223391855\t53.11%\n",
      "84.       bass\t   4\t12.492461857 \t52.99%\n",
      "85.    catfish\t   4\t12.492461857 \t52.99%\n",
      "86.       chub\t   4\t12.492461857 \t52.99%\n",
      "87.    herring\t   4\t12.492461857 \t52.99%\n",
      "88.    piranha\t   4\t12.492461857 \t52.99%\n",
      "89.    hamster\t   1\t12.4713290845\t52.90%\n",
      "90.   aardvark\t   1\t12.3233997916\t52.27%\n",
      "91.       bear\t   1\t12.3233997916\t52.27%\n",
      "92.   fruitbat\t   1\t12.3073680456\t52.20%\n",
      "93.    vampire\t   1\t12.3073680456\t52.20%\n",
      "94.       mink\t   1\t12.1162203044\t51.39%\n"
     ]
    }
   ],
   "source": [
    "tortoise_rsl = relation_score_list(tortoise_targetdata)\n",
    "print_rsl(tortoise_rsl, 0.5)"
   ]
  },
  {
   "cell_type": "code",
   "execution_count": 43,
   "metadata": {
    "collapsed": false
   },
   "outputs": [
    {
     "data": {
      "image/png": "[encoded data removed]",
      "text/plain": [
       "<matplotlib.figure.Figure at 0x10950ded0>"
      ]
     },
     "metadata": {},
     "output_type": "display_data"
    }
   ],
   "source": [
    "plot_relation_distribution(tortoise_rsl)"
   ]
  },
  {
   "cell_type": "code",
   "execution_count": null,
   "metadata": {
    "collapsed": true
   },
   "outputs": [],
   "source": []
  },
  {
   "cell_type": "markdown",
   "metadata": {},
   "source": [
    "<h2> Type 3 Test By Tuatara </h2>"
   ]
  },
  {
   "cell_type": "code",
   "execution_count": 44,
   "metadata": {
    "collapsed": false
   },
   "outputs": [
    {
     "data": {
      "text/plain": [
       "array([0, 0, 1, 0, 0, 0, 1, 1, 1, 1, 0, 0, 1, 0, 0])"
      ]
     },
     "execution_count": 44,
     "metadata": {},
     "output_type": "execute_result"
    }
   ],
   "source": [
    "tuatara_targetdata = find_targetdata('tuatara')\n",
    "tuatara_targetdata"
   ]
  },
  {
   "cell_type": "code",
   "execution_count": 45,
   "metadata": {
    "collapsed": false
   },
   "outputs": [
    {
     "name": "stdout",
     "output_type": "stream",
     "text": [
      "id.       name\ttype\tscores       \trelation\n",
      " 1.   slowworm\t   3\t21.7424279213\t100.00%\n",
      " 2.    tuatara\t   3\t21.7424279213\t100.00%\n",
      " 3.   pitviper\t   3\t20.6564064159\t95.01%\n",
      " 4.       newt\t   5\t20.1885817675\t92.85%\n",
      " 5.       frog\t   5\t18.8419151008\t86.66%\n",
      " 6.       kiwi\t   2\t18.8397766362\t86.65%\n",
      " 7.       frog\t   5\t17.7558935954\t81.66%\n",
      " 8.       bass\t   4\t17.7237008151\t81.52%\n",
      " 9.    catfish\t   4\t17.7237008151\t81.52%\n",
      "10.       chub\t   4\t17.7237008151\t81.52%\n",
      "11.    herring\t   4\t17.7237008151\t81.52%\n",
      "12.    piranha\t   4\t17.7237008151\t81.52%\n",
      "13.       crow\t   2\t17.5280883245\t80.62%\n",
      "14.       hawk\t   2\t17.5280883245\t80.62%\n",
      "15.       rhea\t   2\t17.0678468116\t78.50%\n",
      "16.       toad\t   5\t17.0383436722\t78.36%\n",
      "17.       mole\t   1\t16.6058508709\t76.38%\n",
      "18.    opossum\t   1\t16.6058508709\t76.38%\n",
      "19.   tortoise\t   3\t16.5111889633\t75.94%\n",
      "20.       clam\t   7\t16.2606560799\t74.79%\n",
      "21.   ladybird\t   6\t16.2114677682\t74.56%\n",
      "22.   seasnake\t   3\t16.1281958553\t74.18%\n",
      "23.   scorpion\t   7\t16.0719368344\t73.92%\n",
      "24.       gull\t   2\t15.9742421706\t73.47%\n",
      "25.    skimmer\t   2\t15.9742421706\t73.47%\n",
      "26.       skua\t   2\t15.9742421706\t73.47%\n",
      "27.    dogfish\t   4\t15.9517709905\t73.37%\n",
      "28.       pike\t   4\t15.9517709905\t73.37%\n",
      "29.       tuna\t   4\t15.9517709905\t73.37%\n",
      "30.    haddock\t   4\t15.9201293865\t73.22%\n",
      "31.   seahorse\t   4\t15.9201293865\t73.22%\n",
      "32.       sole\t   4\t15.9201293865\t73.22%\n",
      "33.    vulture\t   2\t15.7561584999\t72.47%\n",
      "34.       lark\t   2\t15.7245168959\t72.32%\n",
      "35.   pheasant\t   2\t15.7245168959\t72.32%\n",
      "36.    sparrow\t   2\t15.7245168959\t72.32%\n",
      "37.       wren\t   2\t15.7245168959\t72.32%\n",
      "38.       flea\t   6\t15.7195846513\t72.30%\n",
      "39.       slug\t   7\t15.7195846513\t72.30%\n",
      "40.    termite\t   6\t15.7195846513\t72.30%\n",
      "41.       worm\t   7\t15.7195846513\t72.30%\n",
      "42.    penguin\t   2\t15.5140006577\t71.35%\n",
      "43.    ostrich\t   2\t15.264275383 \t70.21%\n",
      "44.   stingray\t   4\t14.8657494852\t68.37%\n",
      "45.       boar\t   1\t14.8339210463\t68.23%\n",
      "46.    cheetah\t   1\t14.8339210463\t68.23%\n",
      "47.    leopard\t   1\t14.8339210463\t68.23%\n",
      "48.       lion\t   1\t14.8339210463\t68.23%\n",
      "49.       lynx\t   1\t14.8339210463\t68.23%\n",
      "50.   mongoose\t   1\t14.8339210463\t68.23%\n",
      "51.    polecat\t   1\t14.8339210463\t68.23%\n",
      "52.       puma\t   1\t14.8339210463\t68.23%\n",
      "53.    raccoon\t   1\t14.8339210463\t68.23%\n",
      "54.       wolf\t   1\t14.8339210463\t68.23%\n",
      "55.       hare\t   1\t14.8022794423\t68.08%\n",
      "56.   squirrel\t   1\t14.8022794423\t68.08%\n",
      "57.       vole\t   1\t14.8022794423\t68.08%\n",
      "58.       carp\t   4\t14.7724021138\t67.94%\n",
      "59.       crab\t   7\t14.706809926 \t67.64%\n",
      "60.   crayfish\t   7\t14.706809926 \t67.64%\n",
      "61.    lobster\t   7\t14.706809926 \t67.64%\n",
      "62.   starfish\t   7\t14.706809926 \t67.64%\n",
      "63.    chicken\t   2\t14.5767896232\t67.04%\n",
      "64.       dove\t   2\t14.5767896232\t67.04%\n",
      "65.   parakeet\t   2\t14.5767896232\t67.04%\n",
      "66.       gnat\t   6\t14.4078963396\t66.27%\n",
      "67.       duck\t   2\t14.170670742 \t65.18%\n",
      "68.   flamingo\t   2\t13.9525870713\t64.17%\n",
      "69.    dolphin\t   1\t13.8190732504\t63.56%\n",
      "70.   porpoise\t   1\t13.8190732504\t63.56%\n",
      "71.   pussycat\t   1\t13.6861937736\t62.95%\n",
      "72.    hamster\t   1\t13.6545521696\t62.80%\n",
      "73.    seawasp\t   7\t13.6207884206\t62.65%\n",
      "74.   fruitbat\t   1\t13.4905911306\t62.05%\n",
      "75.    vampire\t   1\t13.4905911306\t62.05%\n",
      "76.   aardvark\t   1\t13.4872543796\t62.03%\n",
      "77.       bear\t   1\t13.4872543796\t62.03%\n",
      "78.   platypus\t   1\t13.3362015943\t61.34%\n",
      "79.       mink\t   1\t13.2800748925\t61.08%\n",
      "80.   antelope\t   1\t13.0303496177\t59.93%\n",
      "81.    buffalo\t   1\t13.0303496177\t59.93%\n",
      "82.       deer\t   1\t13.0303496177\t59.93%\n",
      "83.   elephant\t   1\t13.0303496177\t59.93%\n",
      "84.    giraffe\t   1\t13.0303496177\t59.93%\n",
      "85.       oryx\t   1\t13.0303496177\t59.93%\n",
      "86.    wallaby\t   1\t13.0303496177\t59.93%\n",
      "87.    octopus\t   7\t12.9348801014\t59.49%\n",
      "88.   housefly\t   6\t12.6665170293\t58.26%\n",
      "89.       moth\t   6\t12.6665170293\t58.26%\n",
      "90.       swan\t   2\t12.3987409175\t57.03%\n",
      "91.       girl\t   1\t12.3395271069\t56.75%\n",
      "92.       cavy\t   1\t12.3078855029\t56.61%\n",
      "93.    sealion\t   1\t12.0776939401\t55.55%\n",
      "94.       calf\t   1\t11.882622345 \t54.65%\n",
      "95.       goat\t   1\t11.882622345 \t54.65%\n",
      "96.       pony\t   1\t11.882622345 \t54.65%\n",
      "97.   reindeer\t   1\t11.882622345 \t54.65%\n",
      "98.    gorilla\t   1\t11.6836829511\t53.74%\n",
      "99.       wasp\t   6\t11.5804955239\t53.26%\n",
      "100.       seal\t   1\t10.7310272734\t49.36%\n",
      "101.   honeybee\t   6\t10.4327682511\t47.98%\n"
     ]
    }
   ],
   "source": [
    "tuatara_rsl = relation_score_list(tuatara_targetdata)\n",
    "print_rsl(tuatara_rsl)"
   ]
  },
  {
   "cell_type": "code",
   "execution_count": 46,
   "metadata": {
    "collapsed": false
   },
   "outputs": [
    {
     "data": {
      "image/png": "[encoded data removed]",
      "text/plain": [
       "<matplotlib.figure.Figure at 0x10990f790>"
      ]
     },
     "metadata": {},
     "output_type": "display_data"
    }
   ],
   "source": [
    "plot_relation_distribution(tuatara_rsl)"
   ]
  },
  {
   "cell_type": "code",
   "execution_count": null,
   "metadata": {
    "collapsed": true
   },
   "outputs": [],
   "source": []
  },
  {
   "cell_type": "markdown",
   "metadata": {
    "deletable": true,
    "editable": true
   },
   "source": [
    "<h1> Cluster by Kmeans </h1>"
   ]
  },
  {
   "cell_type": "code",
   "execution_count": 47,
   "metadata": {
    "collapsed": false,
    "deletable": true,
    "editable": true
   },
   "outputs": [],
   "source": [
    "cluster_num = 7\n",
    "feature_cols = ['hair', 'feathers', 'eggs', 'milk', 'airborne', 'aquatic', 'predator', 'toothed', 'backbone',\n",
    "                'breathes', 'venomous', 'fins', 'eggs', 'tail', 'domestic', 'catsize']\n",
    "\n",
    "# Combine selected columns to generate vector column\n",
    "assembler = VectorAssembler(\n",
    "    inputCols=feature_cols,\n",
    "    outputCol='features')\n",
    "\n",
    "# Standard Scaler\n",
    "scaler = StandardScaler(inputCol=\"features\", outputCol=\"scaled_features\",\n",
    "                       withStd=True, withMean=True)\n",
    "\n",
    "# KMeans\n",
    "kmeans = KMeans(k=cluster_num, featuresCol=\"scaled_features\", seed=1)\n",
    "\n",
    "# pipeline\n",
    "pipeline = Pipeline(stages=[assembler, scaler, kmeans])\n",
    "pipelineModel = pipeline.fit(dataset)"
   ]
  },
  {
   "cell_type": "code",
   "execution_count": 48,
   "metadata": {
    "collapsed": false,
    "deletable": true,
    "editable": true
   },
   "outputs": [
    {
     "data": {
      "text/plain": [
       "[array([ 1.02985627, -0.49443795, -1.11625453,  1.20371316, -0.55551984,\n",
       "        -0.35097328,  0.14122901,  0.74217826,  0.46337918,  0.50980485,\n",
       "        -0.29183867, -0.11520021, -1.11625453,  0.23026068,  0.17467467,\n",
       "         1.13253179]),\n",
       " array([-0.85676071, -0.49443795,  0.83953335, -0.82253733, -0.55551984,\n",
       "         1.33704105,  0.27597787,  0.80575756,  0.46337918, -1.94211373,\n",
       "        -0.00841842,  2.21184401,  0.83953335,  0.58586203, -0.15388343,\n",
       "        -0.25676834]),\n",
       " array([-0.38325684, -0.49443795,  0.83953335, -0.82253733,  0.26959051,\n",
       "        -0.00725995, -0.16790074, -1.22878029, -2.1366929 , -0.49980868,\n",
       "         0.35836072, -0.4476351 ,  0.83953335, -1.68998664, -0.20766276,\n",
       "        -0.75618996]),\n",
       " array([-0.85676071,  2.00247372,  0.83953335, -0.82253733,  1.78229281,\n",
       "        -0.04799635, -0.44268274, -1.22878029,  0.46337918,  0.50980485,\n",
       "        -0.29183867, -0.4476351 ,  0.83953335,  0.58586203,  0.21181602,\n",
       "        -0.60666615]),\n",
       " array([-0.85676071, -0.49443795,  0.39089383, -0.82253733, -0.55551984,\n",
       "         0.41368279,  0.66953012,  0.5796978 ,  0.17448228,  0.23736946,\n",
       "         1.34570052, -0.4476351 ,  0.39089383, -0.17275419, -0.38244559,\n",
       "        -0.87423507]),\n",
       " array([ 1.15563073, -0.49443795, -1.17934447,  1.20371316, -0.03600592,\n",
       "        -0.74051504, -0.66512531,  0.80575756,  0.46337918,  0.50980485,\n",
       "        -0.29183867, -0.4476351 , -1.17934447,  0.33298996,  0.27784508,\n",
       "        -0.87423507]),\n",
       " array([-0.85676071,  1.58632177,  0.83953335, -0.82253733, -0.1658844 ,\n",
       "        -0.39425569,  0.22464497, -1.22878029,  0.46337918,  0.50980485,\n",
       "        -0.29183867, -0.4476351 ,  0.83953335,  0.58586203, -0.38244559,\n",
       "         0.79807065])]"
      ]
     },
     "execution_count": 48,
     "metadata": {},
     "output_type": "execute_result"
    }
   ],
   "source": [
    "kmeans_model = pipelineModel.stages[2]\n",
    "centers = kmeans_model.clusterCenters()\n",
    "centers"
   ]
  },
  {
   "cell_type": "code",
   "execution_count": 49,
   "metadata": {
    "collapsed": false,
    "deletable": true,
    "editable": true
   },
   "outputs": [
    {
     "name": "stdout",
     "output_type": "stream",
     "text": [
      "+--------+----+--------+----+----+--------+-------+--------+-------+--------+--------+--------+----+----+----+--------+-------+----------+\n",
      "|    name|hair|feathers|eggs|milk|airborne|aquatic|predator|toothed|backbone|breathes|venomous|fins|eggs|tail|domestic|catsize|prediction|\n",
      "+--------+----+--------+----+----+--------+-------+--------+-------+--------+--------+--------+----+----+----+--------+-------+----------+\n",
      "|aardvark|   1|       0|   0|   1|       0|      0|       1|      1|       1|       1|       0|   0|   0|   0|       0|      1|         0|\n",
      "|antelope|   1|       0|   0|   1|       0|      0|       0|      1|       1|       1|       0|   0|   0|   1|       0|      1|         0|\n",
      "|    bass|   0|       0|   1|   0|       0|      1|       1|      1|       1|       0|       0|   1|   1|   1|       0|      0|         1|\n",
      "|    bear|   1|       0|   0|   1|       0|      0|       1|      1|       1|       1|       0|   0|   0|   0|       0|      1|         0|\n",
      "|    boar|   1|       0|   0|   1|       0|      0|       1|      1|       1|       1|       0|   0|   0|   1|       0|      1|         0|\n",
      "+--------+----+--------+----+----+--------+-------+--------+-------+--------+--------+--------+----+----+----+--------+-------+----------+\n",
      "only showing top 5 rows\n",
      "\n"
     ]
    }
   ],
   "source": [
    "predicted_df = pipelineModel.transform(dataset)\n",
    "predicted_df.select(['name', 'hair', 'feathers', 'eggs', 'milk', 'airborne', 'aquatic', 'predator',\n",
    "                     'toothed', 'backbone', 'breathes', 'venomous', 'fins', 'eggs', 'tail', 'domestic',\n",
    "                     'catsize', 'prediction']).show(5)"
   ]
  },
  {
   "cell_type": "code",
   "execution_count": 50,
   "metadata": {
    "collapsed": true,
    "deletable": true,
    "editable": true
   },
   "outputs": [],
   "source": [
    "X = predicted_df.rdd.map(lambda r: r.scaled_features.toArray()).collect()\n",
    "y = predicted_df.rdd.map(lambda r: r.prediction).collect()"
   ]
  },
  {
   "cell_type": "code",
   "execution_count": 51,
   "metadata": {
    "collapsed": false,
    "deletable": true,
    "editable": true
   },
   "outputs": [
    {
     "data": {
      "text/plain": [
       "((101, 16), (101,))"
      ]
     },
     "execution_count": 51,
     "metadata": {},
     "output_type": "execute_result"
    }
   ],
   "source": [
    "X = np.array(X)\n",
    "y = np.array(y)\n",
    "\n",
    "X.shape, y.shape"
   ]
  },
  {
   "cell_type": "code",
   "execution_count": 52,
   "metadata": {
    "collapsed": false,
    "deletable": true,
    "editable": true
   },
   "outputs": [
    {
     "data": {
      "image/png": "[encoded data removed]",
      "text/plain": [
       "<matplotlib.figure.Figure at 0x10b2fc410>"
      ]
     },
     "metadata": {},
     "output_type": "display_data"
    }
   ],
   "source": [
    "from sklearn.manifold import TSNE\n",
    "import matplotlib.cm as cm\n",
    "\n",
    "colors = cm.rainbow(np.linspace(0, 1, cluster_num))\n",
    "tsne = TSNE(perplexity=30, n_components=2, init='pca', n_iter=5000)\n",
    "points = tsne.fit_transform(X)\n",
    "plt.figure(figsize=(10, 6))\n",
    "plt.xlabel('comp 1')\n",
    "plt.ylabel('comp 2')\n",
    "for p_c in zip(points,  colors[y]):\n",
    "    plt.scatter(p_c[0][0], p_c[0][1], color=p_c[1])"
   ]
  },
  {
   "cell_type": "code",
   "execution_count": null,
   "metadata": {
    "collapsed": true
   },
   "outputs": [],
   "source": []
  }
 ],
 "metadata": {
  "kernelspec": {
   "display_name": "Python 2",
   "language": "python",
   "name": "python2"
  },
  "language_info": {
   "codemirror_mode": {
    "name": "ipython",
    "version": 2
   },
   "file_extension": ".py",
   "mimetype": "text/x-python",
   "name": "python",
   "nbconvert_exporter": "python",
   "pygments_lexer": "ipython2",
   "version": "2.7.13"
  }
 },
 "nbformat": 4,
 "nbformat_minor": 2
}
