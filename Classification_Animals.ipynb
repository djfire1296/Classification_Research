{
 "cells": [
  {
   "cell_type": "markdown",
   "metadata": {},
   "source": [
    "<h1> Libraries </h1>"
   ]
  },
  {
   "cell_type": "code",
   "execution_count": 1,
   "metadata": {
    "collapsed": true
   },
   "outputs": [],
   "source": [
    "# basic libraries\n",
    "import os\n",
    "import time\n",
    "import math\n",
    "\n",
    "import numpy as np\n",
    "import pandas as pd\n",
    "import datetime\n",
    "\n",
    "from datetime import datetime as ddt\n",
    "from datetime import date\n",
    "import matplotlib.pylab as plt"
   ]
  },
  {
   "cell_type": "code",
   "execution_count": 2,
   "metadata": {
    "collapsed": true
   },
   "outputs": [],
   "source": [
    "# pyspark related\n",
    "from pyspark import SparkContext, SparkConf\n",
    "sc = SparkContext('local[*]', 'PySpark')"
   ]
  },
  {
   "cell_type": "code",
   "execution_count": 3,
   "metadata": {
    "collapsed": false
   },
   "outputs": [
    {
     "data": {
      "text/plain": [
       "u'local[*]'"
      ]
     },
     "execution_count": 3,
     "metadata": {},
     "output_type": "execute_result"
    }
   ],
   "source": [
    "sc.master"
   ]
  },
  {
   "cell_type": "code",
   "execution_count": 4,
   "metadata": {
    "collapsed": true
   },
   "outputs": [],
   "source": [
    "# spark sql related\n",
    "from pyspark.sql import DataFrameWriter, SQLContext, Row\n",
    "from pyspark.sql.types import *\n",
    "sqlContext = SQLContext(sc)\n",
    "sql = sqlContext.sql"
   ]
  },
  {
   "cell_type": "code",
   "execution_count": 5,
   "metadata": {
    "collapsed": true
   },
   "outputs": [],
   "source": [
    "# plot figure related\n",
    "import matplotlib as mpl\n",
    "import matplotlib.pyplot as plt\n",
    "import matplotlib.dates as md\n",
    "from pylab import *\n",
    "%matplotlib inline"
   ]
  },
  {
   "cell_type": "code",
   "execution_count": 6,
   "metadata": {
    "collapsed": true
   },
   "outputs": [],
   "source": [
    "add = lambda x, y: x+y"
   ]
  },
  {
   "cell_type": "code",
   "execution_count": null,
   "metadata": {
    "collapsed": true
   },
   "outputs": [],
   "source": []
  },
  {
   "cell_type": "markdown",
   "metadata": {},
   "source": [
    "<h1> Get Data </h1>"
   ]
  },
  {
   "cell_type": "code",
   "execution_count": 7,
   "metadata": {
    "collapsed": true
   },
   "outputs": [],
   "source": [
    "# http://archive.ics.uci.edu/ml/datasets/Zoo\n",
    "txtRDD = sc.textFile('zoo_data.csv')"
   ]
  },
  {
   "cell_type": "code",
   "execution_count": 8,
   "metadata": {
    "collapsed": false
   },
   "outputs": [
    {
     "data": {
      "text/plain": [
       "u'aardvark,1,0,0,1,0,0,1,1,1,1,0,0,4,0,0,1,1'"
      ]
     },
     "execution_count": 8,
     "metadata": {},
     "output_type": "execute_result"
    }
   ],
   "source": [
    "# name, hair, feathers, eggs, milk, airborne, aquatic, predator, toothed, backbone, breathes, venomous, fins\n",
    "# legs, tail, domestic, catsize, type\n",
    "txtRDD.first()"
   ]
  },
  {
   "cell_type": "code",
   "execution_count": null,
   "metadata": {
    "collapsed": true
   },
   "outputs": [],
   "source": []
  },
  {
   "cell_type": "markdown",
   "metadata": {},
   "source": [
    "<h1> Breif Survey </h1>"
   ]
  },
  {
   "cell_type": "code",
   "execution_count": 9,
   "metadata": {
    "collapsed": false
   },
   "outputs": [
    {
     "name": "stdout",
     "output_type": "stream",
     "text": [
      "total 101 data\n"
     ]
    }
   ],
   "source": [
    "# count number of data\n",
    "txtnum = txtRDD.count()\n",
    "print \"total {} data\".format(txtnum)"
   ]
  },
  {
   "cell_type": "code",
   "execution_count": null,
   "metadata": {
    "collapsed": true
   },
   "outputs": [],
   "source": []
  },
  {
   "cell_type": "markdown",
   "metadata": {},
   "source": [
    "<h1> Clean Data </h1>"
   ]
  },
  {
   "cell_type": "code",
   "execution_count": 10,
   "metadata": {
    "collapsed": false
   },
   "outputs": [
    {
     "data": {
      "text/plain": [
       "[u'aardvark', 1, 0, 0, 1, 0, 0, 1, 1, 1, 1, 0, 0, 4, 0, 0, 1, 1]"
      ]
     },
     "execution_count": 10,
     "metadata": {},
     "output_type": "execute_result"
    }
   ],
   "source": [
    "[int(x) if i != 0 else x for i, x in enumerate(txtRDD.first().split(','))]"
   ]
  },
  {
   "cell_type": "code",
   "execution_count": 11,
   "metadata": {
    "collapsed": true
   },
   "outputs": [],
   "source": [
    "# Usage: clean data directly after read data\n",
    "# Output: return a Row\n",
    "def cleanDataToRow(a):\n",
    "    al = [int(x) if i != 0 else x for i, x in enumerate(a.split(','))]\n",
    "    return Row(\n",
    "        name = al[0], hair = al[1], feathers = al[2], eggs = al[3], milk = al[4], airborne = al[5],\n",
    "        aquatic = al[6], predator = al[7], toothed = al[8], backbone = al[9], breathes = al[10],\n",
    "        venomous = al[11], fins = al[12], legs = al[13], tail = al[14], domestic = al[15], catsize = al[16],\n",
    "        category = al[17]\n",
    "    )"
   ]
  },
  {
   "cell_type": "code",
   "execution_count": 12,
   "metadata": {
    "collapsed": true
   },
   "outputs": [],
   "source": [
    "# Usage: get Boolean data directly after read data\n",
    "# Output: return a numpy array\n",
    "def getBooleanData(a):\n",
    "    return np.array([int(x) for i, x in enumerate(a.split(',')) if i not in [0, 13, 17]])"
   ]
  },
  {
   "cell_type": "code",
   "execution_count": null,
   "metadata": {
    "collapsed": true
   },
   "outputs": [],
   "source": []
  },
  {
   "cell_type": "markdown",
   "metadata": {},
   "source": [
    "<h1> Calculate Each Percentage </h1>"
   ]
  },
  {
   "cell_type": "code",
   "execution_count": 13,
   "metadata": {
    "collapsed": true
   },
   "outputs": [],
   "source": [
    "totalnum = txtRDD.map(getBooleanData).aggregate(np.zeros(15, np.int), add, add)"
   ]
  },
  {
   "cell_type": "code",
   "execution_count": 14,
   "metadata": {
    "collapsed": false
   },
   "outputs": [
    {
     "data": {
      "text/plain": [
       "array([43, 20, 59, 41, 24, 36, 56, 61, 83, 80,  8, 17, 75, 13, 44])"
      ]
     },
     "execution_count": 14,
     "metadata": {},
     "output_type": "execute_result"
    }
   ],
   "source": [
    "totalnum"
   ]
  },
  {
   "cell_type": "code",
   "execution_count": 15,
   "metadata": {
    "collapsed": false
   },
   "outputs": [
    {
     "data": {
      "text/plain": [
       "array([ 0.42574257,  0.1980198 ,  0.58415842,  0.40594059,  0.23762376,\n",
       "        0.35643564,  0.55445545,  0.6039604 ,  0.82178218,  0.79207921,\n",
       "        0.07920792,  0.16831683,  0.74257426,  0.12871287,  0.43564356])"
      ]
     },
     "execution_count": 15,
     "metadata": {},
     "output_type": "execute_result"
    }
   ],
   "source": [
    "y_percentage = totalnum / float(txtnum)\n",
    "y_percentage"
   ]
  },
  {
   "cell_type": "code",
   "execution_count": 16,
   "metadata": {
    "collapsed": false
   },
   "outputs": [
    {
     "data": {
      "text/plain": [
       "array([ 0.57425743,  0.8019802 ,  0.41584158,  0.59405941,  0.76237624,\n",
       "        0.64356436,  0.44554455,  0.3960396 ,  0.17821782,  0.20792079,\n",
       "        0.92079208,  0.83168317,  0.25742574,  0.87128713,  0.56435644])"
      ]
     },
     "execution_count": 16,
     "metadata": {},
     "output_type": "execute_result"
    }
   ],
   "source": [
    "n_percentage = 1 - y_percentage\n",
    "n_percentage"
   ]
  },
  {
   "cell_type": "code",
   "execution_count": null,
   "metadata": {
    "collapsed": true
   },
   "outputs": [],
   "source": []
  },
  {
   "cell_type": "markdown",
   "metadata": {},
   "source": [
    "<h1> Initiallize Weight </h1>"
   ]
  },
  {
   "cell_type": "code",
   "execution_count": 17,
   "metadata": {
    "collapsed": false
   },
   "outputs": [
    {
     "data": {
      "text/plain": [
       "array([  2.34883721,   5.05      ,   1.71186441,   2.46341463,\n",
       "         4.20833333,   2.80555556,   1.80357143,   1.6557377 ,\n",
       "         1.21686747,   1.2625    ,  12.625     ,   5.94117647,\n",
       "         1.34666667,   7.76923077,   2.29545455])"
      ]
     },
     "execution_count": 17,
     "metadata": {},
     "output_type": "execute_result"
    }
   ],
   "source": [
    "y_weight = 1 / y_percentage\n",
    "y_weight"
   ]
  },
  {
   "cell_type": "code",
   "execution_count": 18,
   "metadata": {
    "collapsed": false
   },
   "outputs": [
    {
     "data": {
      "text/plain": [
       "array([ 1.74137931,  1.24691358,  2.4047619 ,  1.68333333,  1.31168831,\n",
       "        1.55384615,  2.24444444,  2.525     ,  5.61111111,  4.80952381,\n",
       "        1.08602151,  1.20238095,  3.88461538,  1.14772727,  1.77192982])"
      ]
     },
     "execution_count": 18,
     "metadata": {},
     "output_type": "execute_result"
    }
   ],
   "source": [
    "n_weight = 1 / n_percentage\n",
    "n_weight"
   ]
  },
  {
   "cell_type": "code",
   "execution_count": null,
   "metadata": {
    "collapsed": true
   },
   "outputs": [],
   "source": []
  },
  {
   "cell_type": "markdown",
   "metadata": {},
   "source": [
    "<h1> Calculate Each Initial Score </h1>"
   ]
  },
  {
   "cell_type": "code",
   "execution_count": 19,
   "metadata": {
    "collapsed": false
   },
   "outputs": [],
   "source": [
    "# y_score, n_score\n",
    "scoreRDD = txtRDD.map(getBooleanData).map(lambda a: (np.dot(y_weight, a), np.dot(n_weight, np.ones(15, np.int) - a)))"
   ]
  },
  {
   "cell_type": "code",
   "execution_count": 20,
   "metadata": {
    "collapsed": false
   },
   "outputs": [
    {
     "data": {
      "text/plain": [
       "(13.046382992272191, 13.837955065643236)"
      ]
     },
     "execution_count": 20,
     "metadata": {},
     "output_type": "execute_result"
    }
   ],
   "source": [
    "scoreRDD.first()"
   ]
  },
  {
   "cell_type": "code",
   "execution_count": null,
   "metadata": {
    "collapsed": true
   },
   "outputs": [],
   "source": []
  },
  {
   "cell_type": "markdown",
   "metadata": {},
   "source": [
    "<h1> Find Closest Relation </h1>"
   ]
  },
  {
   "cell_type": "code",
   "execution_count": 21,
   "metadata": {
    "collapsed": true,
    "deletable": true,
    "editable": true
   },
   "outputs": [],
   "source": [
    "def calculate_relation_score(a_t, t):\n",
    "    a_conj = np.ones(15, np.int) - a_t\n",
    "    y_score = np.dot(y_weight, (t - a_conj) == 1)\n",
    "    n_score = np.dot(n_weight, (t - a_conj) == -1)\n",
    "    return y_score + n_score"
   ]
  },
  {
   "cell_type": "code",
   "execution_count": 22,
   "metadata": {
    "collapsed": true,
    "deletable": true,
    "editable": true
   },
   "outputs": [],
   "source": [
    "def relation_score_list(td):\n",
    "    return txtRDD.map(lambda a: ((a.split(',')[0], a.split(',')[-1]), getBooleanData(a))) \\\n",
    "                 .map(lambda (x, y): (calculate_relation_score(y, td), x)) \\\n",
    "                 .sortByKey(False).map(lambda (x, y): (y, x)).collect()"
   ]
  },
  {
   "cell_type": "code",
   "execution_count": null,
   "metadata": {
    "collapsed": true
   },
   "outputs": [],
   "source": []
  },
  {
   "cell_type": "markdown",
   "metadata": {},
   "source": [
    "<h2> Type Three Test by Seasnake </h2>"
   ]
  },
  {
   "cell_type": "code",
   "execution_count": 23,
   "metadata": {
    "collapsed": false
   },
   "outputs": [
    {
     "data": {
      "text/plain": [
       "array([0, 0, 0, 0, 0, 1, 1, 1, 1, 0, 1, 0, 1, 0, 0])"
      ]
     },
     "execution_count": 23,
     "metadata": {},
     "output_type": "execute_result"
    }
   ],
   "source": [
    "seasnake_target = txtRDD.filter(lambda x: 'seasnake' in x).first()\n",
    "seasnake_targetdata = np.array([int(x) for i, x in enumerate(seasnake_target.split(',')) if i not in [0, 13, 17]])\n",
    "seasnake_targetdata"
   ]
  },
  {
   "cell_type": "code",
   "execution_count": 24,
   "metadata": {
    "collapsed": false
   },
   "outputs": [],
   "source": [
    "seasnake_rsl = relation_score_list(seasnake_targetdata)"
   ]
  },
  {
   "cell_type": "code",
   "execution_count": 25,
   "metadata": {
    "collapsed": true
   },
   "outputs": [
    {
     "name": "stdout",
     "output_type": "stream",
     "text": [
      "1. (u'seasnake', u'3'): 38.7730371252\n",
      "2. (u'stingray', u'4'): 33.3939644435\n",
      "3. (u'seawasp', u'7'): 32.1490033789\n",
      "4. (u'frog', u'5'): 30.2120847442\n",
      "5. (u'pitviper', u'3'): 28.7531958553\n",
      "6. (u'scorpion', u'7'): 28.2853525853\n",
      "7. (u'piranha', u'4'): 22.540894268\n",
      "8. (u'bass', u'4'): 22.540894268\n",
      "9. (u'catfish', u'4'): 22.540894268\n",
      "10. (u'chub', u'4'): 22.540894268\n",
      "11. (u'herring', u'4'): 22.540894268\n",
      "12. (u'pike', u'4'): 20.7689644435\n",
      "13. (u'tuna', u'4'): 20.7689644435\n",
      "14. (u'dogfish', u'4'): 20.7689644435\n",
      "15. (u'haddock', u'4'): 20.7373228394\n",
      "16. (u'seahorse', u'4'): 20.7373228394\n",
      "17. (u'sole', u'4'): 20.7373228394\n",
      "18. (u'wasp', u'6'): 19.6772849632\n",
      "19. (u'carp', u'4'): 19.5895955667\n",
      "20. (u'crab', u'7'): 19.5240033789\n",
      "21. (u'crayfish', u'7'): 19.5240033789\n",
      "22. (u'lobster', u'7'): 19.5240033789\n",
      "23. (u'starfish', u'7'): 19.5240033789\n",
      "24. (u'newt', u'5'): 18.9337514109\n",
      "25. (u'honeybee', u'6'): 18.5295576905\n",
      "26. (u'octopus', u'7'): 17.7520735544\n",
      "27. (u'frog', u'5'): 17.5870847442\n",
      "28. (u'clam', u'7'): 16.7184478234\n",
      "29. (u'porpoise', u'1'): 16.6808692054\n",
      "30. (u'dolphin', u'1'): 16.6808692054\n",
      "31. (u'mink', u'1'): 16.1418708474\n",
      "32. (u'slowworm', u'3'): 16.1281958553\n",
      "33. (u'tuatara', u'3'): 16.1281958553\n",
      "34. (u'toad', u'5'): 15.7835133156\n",
      "35. (u'mole', u'1'): 15.1082451164\n",
      "36. (u'opossum', u'1'): 15.1082451164\n",
      "37. (u'sealion', u'1'): 14.939489895\n",
      "38. (u'gull', u'2'): 14.719411814\n",
      "39. (u'skimmer', u'2'): 14.719411814\n",
      "40. (u'skua', u'2'): 14.719411814\n",
      "41. (u'penguin', u'2'): 14.2591703011\n",
      "42. (u'seal', u'1'): 13.5928232283\n",
      "43. (u'boar', u'1'): 13.3363152918\n",
      "44. (u'cheetah', u'1'): 13.3363152918\n",
      "45. (u'leopard', u'1'): 13.3363152918\n",
      "46. (u'lion', u'1'): 13.3363152918\n",
      "47. (u'lynx', u'1'): 13.3363152918\n",
      "48. (u'mongoose', u'1'): 13.3363152918\n",
      "49. (u'polecat', u'1'): 13.3363152918\n",
      "50. (u'puma', u'1'): 13.3363152918\n",
      "51. (u'raccoon', u'1'): 13.3363152918\n",
      "52. (u'wolf', u'1'): 13.3363152918\n",
      "53. (u'hare', u'1'): 13.3046736878\n",
      "54. (u'squirrel', u'1'): 13.3046736878\n",
      "55. (u'vole', u'1'): 13.3046736878\n",
      "56. (u'kiwi', u'2'): 13.2255445702\n",
      "57. (u'duck', u'2'): 12.9158403854\n",
      "58. (u'pussycat', u'1'): 12.1885880191\n",
      "59. (u'hamster', u'1'): 12.1569464151\n",
      "60. (u'platypus', u'1'): 12.0813712377\n",
      "61. (u'fruitbat', u'1'): 11.9929853761\n",
      "62. (u'vampire', u'1'): 11.9929853761\n",
      "63. (u'aardvark', u'1'): 11.9896486252\n",
      "64. (u'bear', u'1'): 11.9896486252\n",
      "65. (u'crow', u'2'): 11.9138562585\n",
      "66. (u'hawk', u'2'): 11.9138562585\n",
      "67. (u'antelope', u'1'): 11.5327438633\n",
      "68. (u'buffalo', u'1'): 11.5327438633\n",
      "69. (u'deer', u'1'): 11.5327438633\n",
      "70. (u'elephant', u'1'): 11.5327438633\n",
      "71. (u'giraffe', u'1'): 11.5327438633\n",
      "72. (u'oryx', u'1'): 11.5327438633\n",
      "73. (u'wallaby', u'1'): 11.5327438633\n",
      "74. (u'rhea', u'2'): 11.4536147456\n",
      "75. (u'swan', u'2'): 11.1439105609\n",
      "76. (u'tortoise', u'3'): 10.8969568973\n",
      "77. (u'girl', u'1'): 10.8419213524\n",
      "78. (u'cavy', u'1'): 10.8102797484\n",
      "79. (u'ladybird', u'6'): 10.5972357022\n",
      "80. (u'calf', u'1'): 10.3850165905\n",
      "81. (u'goat', u'1'): 10.3850165905\n",
      "82. (u'pony', u'1'): 10.3850165905\n",
      "83. (u'reindeer', u'1'): 10.3850165905\n",
      "84. (u'gorilla', u'1'): 10.1860771966\n",
      "85. (u'vulture', u'2'): 10.1419264339\n",
      "86. (u'lark', u'2'): 10.1102848299\n",
      "87. (u'pheasant', u'2'): 10.1102848299\n",
      "88. (u'sparrow', u'2'): 10.1102848299\n",
      "89. (u'wren', u'2'): 10.1102848299\n",
      "90. (u'flea', u'6'): 10.1053525853\n",
      "91. (u'slug', u'7'): 10.1053525853\n",
      "92. (u'termite', u'6'): 10.1053525853\n",
      "93. (u'worm', u'7'): 10.1053525853\n",
      "94. (u'ostrich', u'2'): 9.65004331702\n",
      "95. (u'chicken', u'2'): 8.96255755717\n",
      "96. (u'dove', u'2'): 8.96255755717\n",
      "97. (u'parakeet', u'2'): 8.96255755717\n",
      "98. (u'gnat', u'6'): 8.79366427359\n",
      "99. (u'flamingo', u'2'): 8.33835500533\n",
      "100. (u'housefly', u'6'): 7.05228496325\n",
      "101. (u'moth', u'6'): 7.05228496325\n"
     ]
    }
   ],
   "source": [
    "# pitviper(5), seasnake(1), slowworm(32), tortoise(76), tuatara(33)\n",
    "for i, x in enumerate(seasnake_rsl):\n",
    "    print \"{}. {}: {}\".format(i+1, x[0], x[1])"
   ]
  },
  {
   "cell_type": "code",
   "execution_count": 26,
   "metadata": {
    "collapsed": false
   },
   "outputs": [
    {
     "data": {
      "image/png": "[encoded data removed]",
      "text/plain": [
       "<matplotlib.figure.Figure at 0x106821cd0>"
      ]
     },
     "metadata": {},
     "output_type": "display_data"
    }
   ],
   "source": [
    "relation_category = [(i, x[0][1]) for i, x in enumerate(seasnake_rsl)]\n",
    "\n",
    "plt.plot([y for (x,y) in relation_category], 'o')\n",
    "plt.show()"
   ]
  },
  {
   "cell_type": "code",
   "execution_count": null,
   "metadata": {
    "collapsed": true
   },
   "outputs": [],
   "source": []
  },
  {
   "cell_type": "markdown",
   "metadata": {},
   "source": [
    "<h2> Type Four Test by Piranha </h2>"
   ]
  },
  {
   "cell_type": "code",
   "execution_count": 27,
   "metadata": {
    "collapsed": false
   },
   "outputs": [
    {
     "data": {
      "text/plain": [
       "array([0, 0, 1, 0, 0, 1, 1, 1, 1, 0, 0, 1, 1, 0, 0])"
      ]
     },
     "execution_count": 27,
     "metadata": {},
     "output_type": "execute_result"
    }
   ],
   "source": [
    "piranha_target = txtRDD.filter(lambda x: 'piranha' in x).first()\n",
    "piranha_targetdata = np.array([int(x) for i, x in enumerate(piranha_target.split(',')) if i not in [0, 13, 17]])\n",
    "piranha_targetdata"
   ]
  },
  {
   "cell_type": "code",
   "execution_count": 28,
   "metadata": {
    "collapsed": true
   },
   "outputs": [],
   "source": [
    "piranha_rsl = relation_score_list(piranha_targetdata)"
   ]
  },
  {
   "cell_type": "code",
   "execution_count": 29,
   "metadata": {
    "collapsed": true
   },
   "outputs": [
    {
     "name": "stdout",
     "output_type": "stream",
     "text": [
      "1. (u'bass', u'4'): 31.2799566508\n",
      "2. (u'catfish', u'4'): 31.2799566508\n",
      "3. (u'chub', u'4'): 31.2799566508\n",
      "4. (u'herring', u'4'): 31.2799566508\n",
      "5. (u'piranha', u'4'): 31.2799566508\n",
      "6. (u'dogfish', u'4'): 29.5080268262\n",
      "7. (u'pike', u'4'): 29.5080268262\n",
      "8. (u'tuna', u'4'): 29.5080268262\n",
      "9. (u'seahorse', u'4'): 29.4763852222\n",
      "10. (u'sole', u'4'): 29.4763852222\n",
      "11. (u'haddock', u'4'): 29.4763852222\n",
      "12. (u'stingray', u'4'): 28.4220053208\n",
      "13. (u'carp', u'4'): 28.3286579495\n",
      "14. (u'seasnake', u'3'): 22.540894268\n",
      "15. (u'dolphin', u'1'): 21.3033052766\n",
      "16. (u'porpoise', u'1'): 21.3033052766\n",
      "17. (u'crab', u'7'): 21.1195083387\n",
      "18. (u'crayfish', u'7'): 21.1195083387\n",
      "19. (u'lobster', u'7'): 21.1195083387\n",
      "20. (u'starfish', u'7'): 21.1195083387\n",
      "21. (u'newt', u'5'): 20.5292563706\n",
      "22. (u'seawasp', u'7'): 20.0334868333\n",
      "23. (u'sealion', u'1'): 19.5619259662\n",
      "24. (u'octopus', u'7'): 19.3475785141\n",
      "25. (u'frog', u'5'): 19.182589704\n",
      "26. (u'clam', u'7'): 18.3139527832\n",
      "27. (u'seal', u'1'): 18.2152592996\n",
      "28. (u'frog', u'5'): 18.0965681986\n",
      "29. (u'slowworm', u'3'): 17.7237008151\n",
      "30. (u'tuatara', u'3'): 17.7237008151\n",
      "31. (u'toad', u'5'): 17.3790182754\n",
      "32. (u'pitviper', u'3'): 16.6376793097\n",
      "33. (u'gull', u'2'): 16.3149167738\n",
      "34. (u'skimmer', u'2'): 16.3149167738\n",
      "35. (u'skua', u'2'): 16.3149167738\n",
      "36. (u'penguin', u'2'): 15.8546752609\n",
      "37. (u'kiwi', u'2'): 14.8210495299\n",
      "38. (u'duck', u'2'): 14.5113453452\n",
      "39. (u'platypus', u'1'): 13.6768761975\n",
      "40. (u'mink', u'1'): 13.6207494956\n",
      "41. (u'crow', u'2'): 13.5093612182\n",
      "42. (u'hawk', u'2'): 13.5093612182\n",
      "43. (u'rhea', u'2'): 13.0491197054\n",
      "44. (u'swan', u'2'): 12.7394155207\n",
      "45. (u'mole', u'1'): 12.5871237646\n",
      "46. (u'opossum', u'1'): 12.5871237646\n",
      "47. (u'tortoise', u'3'): 12.492461857\n",
      "48. (u'ladybird', u'6'): 12.1927406619\n",
      "49. (u'scorpion', u'7'): 12.0532097281\n",
      "50. (u'vulture', u'2'): 11.7374313937\n",
      "51. (u'lark', u'2'): 11.7057897897\n",
      "52. (u'pheasant', u'2'): 11.7057897897\n",
      "53. (u'sparrow', u'2'): 11.7057897897\n",
      "54. (u'wren', u'2'): 11.7057897897\n",
      "55. (u'flea', u'6'): 11.7008575451\n",
      "56. (u'slug', u'7'): 11.7008575451\n",
      "57. (u'termite', u'6'): 11.7008575451\n",
      "58. (u'worm', u'7'): 11.7008575451\n",
      "59. (u'ostrich', u'2'): 11.2455482768\n",
      "60. (u'boar', u'1'): 10.8151939401\n",
      "61. (u'cheetah', u'1'): 10.8151939401\n",
      "62. (u'leopard', u'1'): 10.8151939401\n",
      "63. (u'lion', u'1'): 10.8151939401\n",
      "64. (u'lynx', u'1'): 10.8151939401\n",
      "65. (u'mongoose', u'1'): 10.8151939401\n",
      "66. (u'polecat', u'1'): 10.8151939401\n",
      "67. (u'puma', u'1'): 10.8151939401\n",
      "68. (u'raccoon', u'1'): 10.8151939401\n",
      "69. (u'wolf', u'1'): 10.8151939401\n",
      "70. (u'hare', u'1'): 10.7835523361\n",
      "71. (u'squirrel', u'1'): 10.7835523361\n",
      "72. (u'vole', u'1'): 10.7835523361\n",
      "73. (u'chicken', u'2'): 10.5580625169\n",
      "74. (u'dove', u'2'): 10.5580625169\n",
      "75. (u'parakeet', u'2'): 10.5580625169\n",
      "76. (u'gnat', u'6'): 10.3891692334\n",
      "77. (u'flamingo', u'2'): 9.93385996511\n",
      "78. (u'pussycat', u'1'): 9.66746666735\n",
      "79. (u'hamster', u'1'): 9.63582506334\n",
      "80. (u'fruitbat', u'1'): 9.47186402438\n",
      "81. (u'vampire', u'1'): 9.47186402438\n",
      "82. (u'aardvark', u'1'): 9.46852727341\n",
      "83. (u'bear', u'1'): 9.46852727341\n",
      "84. (u'antelope', u'1'): 9.0116225115\n",
      "85. (u'buffalo', u'1'): 9.0116225115\n",
      "86. (u'deer', u'1'): 9.0116225115\n",
      "87. (u'elephant', u'1'): 9.0116225115\n",
      "88. (u'giraffe', u'1'): 9.0116225115\n",
      "89. (u'oryx', u'1'): 9.0116225115\n",
      "90. (u'wallaby', u'1'): 9.0116225115\n",
      "91. (u'housefly', u'6'): 8.64778992302\n",
      "92. (u'moth', u'6'): 8.64778992302\n",
      "93. (u'girl', u'1'): 8.32080000068\n",
      "94. (u'cavy', u'1'): 8.28915839667\n",
      "95. (u'calf', u'1'): 7.86389523878\n",
      "96. (u'goat', u'1'): 7.86389523878\n",
      "97. (u'pony', u'1'): 7.86389523878\n",
      "98. (u'reindeer', u'1'): 7.86389523878\n",
      "99. (u'gorilla', u'1'): 7.66495584484\n",
      "100. (u'wasp', u'6'): 7.56176841765\n",
      "101. (u'honeybee', u'6'): 6.41404114492\n"
     ]
    }
   ],
   "source": [
    "for i, x in enumerate(piranha_rsl):\n",
    "    print \"{}. {}: {}\".format(i+1, x[0], x[1])"
   ]
  },
  {
   "cell_type": "code",
   "execution_count": 30,
   "metadata": {
    "collapsed": false
   },
   "outputs": [
    {
     "data": {
      "image/png": "[encoded data removed]",
      "text/plain": [
       "<matplotlib.figure.Figure at 0x1068fb350>"
      ]
     },
     "metadata": {},
     "output_type": "display_data"
    }
   ],
   "source": [
    "relation_category = [(i, x[0][1]) for i, x in enumerate(piranha_rsl)]\n",
    "\n",
    "plt.plot([y for (x,y) in relation_category], 'o')\n",
    "plt.show()"
   ]
  },
  {
   "cell_type": "code",
   "execution_count": null,
   "metadata": {
    "collapsed": true
   },
   "outputs": [],
   "source": []
  },
  {
   "cell_type": "markdown",
   "metadata": {},
   "source": [
    "<h2> Type One Test by Lion </h2>"
   ]
  },
  {
   "cell_type": "code",
   "execution_count": 31,
   "metadata": {
    "collapsed": false
   },
   "outputs": [
    {
     "data": {
      "text/plain": [
       "array([1, 0, 0, 1, 0, 0, 1, 1, 1, 1, 0, 0, 1, 0, 1])"
      ]
     },
     "execution_count": 31,
     "metadata": {},
     "output_type": "execute_result"
    }
   ],
   "source": [
    "lion_target = txtRDD.filter(lambda x: 'lion' in x).first()\n",
    "lion_targetdata = np.array([int(x) for i, x in enumerate(lion_target.split(',')) if i not in [0, 13, 17]])\n",
    "lion_targetdata"
   ]
  },
  {
   "cell_type": "code",
   "execution_count": 32,
   "metadata": {
    "collapsed": true
   },
   "outputs": [],
   "source": [
    "lion_rsl = relation_score_list(lion_targetdata)"
   ]
  },
  {
   "cell_type": "code",
   "execution_count": 33,
   "metadata": {
    "collapsed": true
   },
   "outputs": [
    {
     "name": "stdout",
     "output_type": "stream",
     "text": [
      "1. (u'boar', u'1'): 24.34638934\n",
      "2. (u'cheetah', u'1'): 24.34638934\n",
      "3. (u'leopard', u'1'): 24.34638934\n",
      "4. (u'lion', u'1'): 24.34638934\n",
      "5. (u'lynx', u'1'): 24.34638934\n",
      "6. (u'mongoose', u'1'): 24.34638934\n",
      "7. (u'polecat', u'1'): 24.34638934\n",
      "8. (u'puma', u'1'): 24.34638934\n",
      "9. (u'raccoon', u'1'): 24.34638934\n",
      "10. (u'wolf', u'1'): 24.34638934\n",
      "11. (u'pussycat', u'1'): 23.1986620672\n",
      "12. (u'aardvark', u'1'): 22.9997226733\n",
      "13. (u'bear', u'1'): 22.9997226733\n",
      "14. (u'mink', u'1'): 22.7925431861\n",
      "15. (u'antelope', u'1'): 22.5428179114\n",
      "16. (u'buffalo', u'1'): 22.5428179114\n",
      "17. (u'deer', u'1'): 22.5428179114\n",
      "18. (u'elephant', u'1'): 22.5428179114\n",
      "19. (u'giraffe', u'1'): 22.5428179114\n",
      "20. (u'oryx', u'1'): 22.5428179114\n",
      "21. (u'wallaby', u'1'): 22.5428179114\n",
      "22. (u'mole', u'1'): 22.0509347945\n",
      "23. (u'opossum', u'1'): 22.0509347945\n",
      "24. (u'girl', u'1'): 21.8519954006\n",
      "25. (u'sealion', u'1'): 21.5901622337\n",
      "26. (u'calf', u'1'): 21.3950906387\n",
      "27. (u'goat', u'1'): 21.3950906387\n",
      "28. (u'pony', u'1'): 21.3950906387\n",
      "29. (u'reindeer', u'1'): 21.3950906387\n",
      "30. (u'gorilla', u'1'): 21.1961512447\n",
      "31. (u'squirrel', u'1'): 20.2473633659\n",
      "32. (u'vole', u'1'): 20.2473633659\n",
      "33. (u'hare', u'1'): 20.2473633659\n",
      "34. (u'seal', u'1'): 20.2434955671\n",
      "35. (u'dolphin', u'1'): 19.2413250244\n",
      "36. (u'porpoise', u'1'): 19.2413250244\n",
      "37. (u'hamster', u'1'): 19.0996360932\n",
      "38. (u'vampire', u'1'): 18.9356750543\n",
      "39. (u'fruitbat', u'1'): 18.9356750543\n",
      "40. (u'platypus', u'1'): 18.7320435764\n",
      "41. (u'cavy', u'1'): 17.7529694265\n",
      "42. (u'slowworm', u'3'): 14.8339210463\n",
      "43. (u'tuatara', u'3'): 14.8339210463\n",
      "44. (u'rhea', u'2'): 14.2267243066\n",
      "45. (u'pitviper', u'3'): 13.7478995409\n",
      "46. (u'tortoise', u'3'): 13.6700664583\n",
      "47. (u'seasnake', u'3'): 13.3363152918\n",
      "48. (u'newt', u'5'): 13.2800748925\n",
      "49. (u'scorpion', u'7'): 13.2800562709\n",
      "50. (u'dogfish', u'4'): 13.1106484855\n",
      "51. (u'pike', u'4'): 13.1106484855\n",
      "52. (u'tuna', u'4'): 13.1106484855\n",
      "53. (u'vulture', u'2'): 12.9150359949\n",
      "54. (u'penguin', u'2'): 12.6728781527\n",
      "55. (u'ostrich', u'2'): 12.423152878\n",
      "56. (u'stingray', u'4'): 12.0246269802\n",
      "57. (u'frog', u'5'): 11.9334082258\n",
      "58. (u'kiwi', u'2'): 11.9312697611\n",
      "59. (u'flamingo', u'2'): 11.1114645663\n",
      "60. (u'frog', u'5'): 10.8473867204\n",
      "61. (u'bass', u'4'): 10.8151939401\n",
      "62. (u'catfish', u'4'): 10.8151939401\n",
      "63. (u'chub', u'4'): 10.8151939401\n",
      "64. (u'herring', u'4'): 10.8151939401\n",
      "65. (u'piranha', u'4'): 10.8151939401\n",
      "66. (u'crow', u'2'): 10.6195814494\n",
      "67. (u'hawk', u'2'): 10.6195814494\n",
      "68. (u'toad', u'5'): 10.1298367972\n",
      "69. (u'octopus', u'7'): 10.0937575964\n",
      "70. (u'housefly', u'6'): 9.84822667388\n",
      "71. (u'moth', u'6'): 9.84822667388\n",
      "72. (u'swan', u'2'): 9.55761841249\n",
      "73. (u'clam', u'7'): 9.35214920484\n",
      "74. (u'ladybird', u'6'): 9.30296089315\n",
      "75. (u'skimmer', u'2'): 9.0657352956\n",
      "76. (u'skua', u'2'): 9.0657352956\n",
      "77. (u'gull', u'2'): 9.0657352956\n",
      "78. (u'haddock', u'4'): 9.0116225115\n",
      "79. (u'seahorse', u'4'): 9.0116225115\n",
      "80. (u'sole', u'4'): 9.0116225115\n",
      "81. (u'lark', u'2'): 8.81601002088\n",
      "82. (u'pheasant', u'2'): 8.81601002088\n",
      "83. (u'sparrow', u'2'): 8.81601002088\n",
      "84. (u'wren', u'2'): 8.81601002088\n",
      "85. (u'flea', u'6'): 8.81107777627\n",
      "86. (u'slug', u'7'): 8.81107777627\n",
      "87. (u'termite', u'6'): 8.81107777627\n",
      "88. (u'worm', u'7'): 8.81107777627\n",
      "89. (u'wasp', u'6'): 8.7622051685\n",
      "90. (u'carp', u'4'): 7.86389523878\n",
      "91. (u'crab', u'7'): 7.79830305099\n",
      "92. (u'crayfish', u'7'): 7.79830305099\n",
      "93. (u'lobster', u'7'): 7.79830305099\n",
      "94. (u'starfish', u'7'): 7.79830305099\n",
      "95. (u'chicken', u'2'): 7.66828274815\n",
      "96. (u'dove', u'2'): 7.66828274815\n",
      "97. (u'parakeet', u'2'): 7.66828274815\n",
      "98. (u'honeybee', u'6'): 7.61447789578\n",
      "99. (u'gnat', u'6'): 7.49938946458\n",
      "100. (u'duck', u'2'): 7.26216386703\n",
      "101. (u'seawasp', u'7'): 6.71228154561\n"
     ]
    }
   ],
   "source": [
    "for i, x in enumerate(lion_rsl):\n",
    "    print \"{}. {}: {}\".format(i+1, x[0], x[1])"
   ]
  },
  {
   "cell_type": "code",
   "execution_count": 34,
   "metadata": {
    "collapsed": false,
    "scrolled": true
   },
   "outputs": [
    {
     "data": {
      "image/png": "[encoded data removed]",
      "text/plain": [
       "<matplotlib.figure.Figure at 0x1069da9d0>"
      ]
     },
     "metadata": {},
     "output_type": "display_data"
    }
   ],
   "source": [
    "relation_category = [(i, x[0][1]) for i, x in enumerate(lion_rsl)]\n",
    "\n",
    "plt.plot([y for (x,y) in relation_category], 'o')\n",
    "plt.show()"
   ]
  },
  {
   "cell_type": "code",
   "execution_count": null,
   "metadata": {
    "collapsed": true
   },
   "outputs": [],
   "source": []
  }
 ],
 "metadata": {
  "kernelspec": {
   "display_name": "Python 2",
   "language": "python",
   "name": "python2"
  },
  "language_info": {
   "codemirror_mode": {
    "name": "ipython",
    "version": 2
   },
   "file_extension": ".py",
   "mimetype": "text/x-python",
   "name": "python",
   "nbconvert_exporter": "python",
   "pygments_lexer": "ipython2",
   "version": "2.7.13"
  }
 },
 "nbformat": 4,
 "nbformat_minor": 2
}
