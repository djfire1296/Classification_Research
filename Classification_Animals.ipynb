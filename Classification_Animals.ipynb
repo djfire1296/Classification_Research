{
 "cells": [
  {
   "cell_type": "markdown",
   "metadata": {
    "deletable": true,
    "editable": true
   },
   "source": [
    "<h1> Libraries </h1>"
   ]
  },
  {
   "cell_type": "code",
   "execution_count": 1,
   "metadata": {
    "collapsed": true,
    "deletable": true,
    "editable": true
   },
   "outputs": [],
   "source": [
    "# basic libraries\n",
    "import os\n",
    "import time\n",
    "import math\n",
    "\n",
    "import numpy as np\n",
    "import pandas as pd\n",
    "import datetime\n",
    "\n",
    "from datetime import datetime as ddt\n",
    "from datetime import date\n",
    "import matplotlib.pylab as plt"
   ]
  },
  {
   "cell_type": "code",
   "execution_count": 2,
   "metadata": {
    "collapsed": true,
    "deletable": true,
    "editable": true
   },
   "outputs": [],
   "source": [
    "# pyspark related\n",
    "from pyspark import SparkContext, SparkConf\n",
    "sc = SparkContext('local[*]', 'PySpark')"
   ]
  },
  {
   "cell_type": "code",
   "execution_count": 3,
   "metadata": {
    "collapsed": false,
    "deletable": true,
    "editable": true
   },
   "outputs": [
    {
     "data": {
      "text/plain": [
       "u'local[*]'"
      ]
     },
     "execution_count": 3,
     "metadata": {},
     "output_type": "execute_result"
    }
   ],
   "source": [
    "sc.master"
   ]
  },
  {
   "cell_type": "code",
   "execution_count": 4,
   "metadata": {
    "collapsed": true,
    "deletable": true,
    "editable": true
   },
   "outputs": [],
   "source": [
    "# spark sql related\n",
    "from pyspark.sql import DataFrameWriter, SQLContext, Row\n",
    "from pyspark.sql.types import *\n",
    "from pyspark.sql.functions import col\n",
    "sqlContext = SQLContext(sc)\n",
    "sql = sqlContext.sql"
   ]
  },
  {
   "cell_type": "code",
   "execution_count": 5,
   "metadata": {
    "collapsed": true
   },
   "outputs": [],
   "source": [
    "# spark maching learning related\n",
    "from pyspark.ml import Pipeline\n",
    "from pyspark.ml.feature import StandardScaler, VectorAssembler\n",
    "from pyspark.ml.clustering import KMeans"
   ]
  },
  {
   "cell_type": "code",
   "execution_count": 6,
   "metadata": {
    "collapsed": true,
    "deletable": true,
    "editable": true
   },
   "outputs": [],
   "source": [
    "# plot figure related\n",
    "import matplotlib as mpl\n",
    "import matplotlib.pyplot as plt\n",
    "import matplotlib.dates as md\n",
    "from pylab import *\n",
    "%matplotlib inline"
   ]
  },
  {
   "cell_type": "code",
   "execution_count": 7,
   "metadata": {
    "collapsed": true,
    "deletable": true,
    "editable": true
   },
   "outputs": [],
   "source": [
    "add = lambda x, y: x+y"
   ]
  },
  {
   "cell_type": "code",
   "execution_count": null,
   "metadata": {
    "collapsed": true,
    "deletable": true,
    "editable": true
   },
   "outputs": [],
   "source": []
  },
  {
   "cell_type": "markdown",
   "metadata": {
    "deletable": true,
    "editable": true
   },
   "source": [
    "<h1> Get Data </h1>"
   ]
  },
  {
   "cell_type": "code",
   "execution_count": 8,
   "metadata": {
    "collapsed": true,
    "deletable": true,
    "editable": true
   },
   "outputs": [],
   "source": [
    "# http://archive.ics.uci.edu/ml/datasets/Zoo\n",
    "txtRDD = sc.textFile('zoo_data.csv').map(lambda z: z.split(','))"
   ]
  },
  {
   "cell_type": "code",
   "execution_count": 9,
   "metadata": {
    "collapsed": false,
    "deletable": true,
    "editable": true
   },
   "outputs": [
    {
     "name": "stdout",
     "output_type": "stream",
     "text": [
      "[u'aardvark', u'1', u'0', u'0', u'1', u'0', u'0', u'1', u'1', u'1', u'1', u'0', u'0', u'4', u'0', u'0', u'1', u'1']\n"
     ]
    }
   ],
   "source": [
    "# name, hair, feathers, eggs, milk, airborne, aquatic, predator, toothed, backbone, breathes, venomous, fins\n",
    "# legs, tail, domestic, catsize, type\n",
    "print txtRDD.first()"
   ]
  },
  {
   "cell_type": "code",
   "execution_count": null,
   "metadata": {
    "collapsed": true,
    "deletable": true,
    "editable": true
   },
   "outputs": [],
   "source": []
  },
  {
   "cell_type": "markdown",
   "metadata": {
    "deletable": true,
    "editable": true
   },
   "source": [
    "<h1> Breif Survey </h1>"
   ]
  },
  {
   "cell_type": "code",
   "execution_count": 10,
   "metadata": {
    "collapsed": false,
    "deletable": true,
    "editable": true
   },
   "outputs": [
    {
     "name": "stdout",
     "output_type": "stream",
     "text": [
      "total 101 data\n"
     ]
    }
   ],
   "source": [
    "# count number of data\n",
    "txtnum = txtRDD.count()\n",
    "print \"total {} data\".format(txtnum)"
   ]
  },
  {
   "cell_type": "code",
   "execution_count": null,
   "metadata": {
    "collapsed": true,
    "deletable": true,
    "editable": true
   },
   "outputs": [],
   "source": []
  },
  {
   "cell_type": "markdown",
   "metadata": {
    "deletable": true,
    "editable": true
   },
   "source": [
    "<h1> Clean Data </h1>"
   ]
  },
  {
   "cell_type": "code",
   "execution_count": 11,
   "metadata": {
    "collapsed": false,
    "deletable": true,
    "editable": true
   },
   "outputs": [
    {
     "data": {
      "text/plain": [
       "[u'aardvark', 1, 0, 0, 1, 0, 0, 1, 1, 1, 1, 0, 0, 4, 0, 0, 1, 1]"
      ]
     },
     "execution_count": 11,
     "metadata": {},
     "output_type": "execute_result"
    }
   ],
   "source": [
    "[int(x) if i != 0 else x for i, x in enumerate(txtRDD.first())]"
   ]
  },
  {
   "cell_type": "code",
   "execution_count": 12,
   "metadata": {
    "collapsed": true,
    "deletable": true,
    "editable": true
   },
   "outputs": [],
   "source": [
    "# Usage: clean data directly after read data\n",
    "# Output: return a Row\n",
    "def cleanDataToRow(a):\n",
    "    al = [int(x) if i != 0 else x for i, x in enumerate(a)]\n",
    "    return Row(\n",
    "        name = al[0], hair = al[1], feathers = al[2], eggs = al[3], milk = al[4], airborne = al[5],\n",
    "        aquatic = al[6], predator = al[7], toothed = al[8], backbone = al[9], breathes = al[10],\n",
    "        venomous = al[11], fins = al[12], legs = al[13], tail = al[14], domestic = al[15], catsize = al[16],\n",
    "        category = al[17]\n",
    "    )"
   ]
  },
  {
   "cell_type": "code",
   "execution_count": 13,
   "metadata": {
    "collapsed": true,
    "deletable": true,
    "editable": true
   },
   "outputs": [],
   "source": [
    "# Usage: get Boolean data directly after read data\n",
    "# Output: return a numpy array\n",
    "def getBooleanData(a):\n",
    "    return np.array([int(x) for i, x in enumerate(a) if i not in [0, 13, 17]])"
   ]
  },
  {
   "cell_type": "code",
   "execution_count": null,
   "metadata": {
    "collapsed": true,
    "deletable": true,
    "editable": true
   },
   "outputs": [],
   "source": []
  },
  {
   "cell_type": "markdown",
   "metadata": {
    "deletable": true,
    "editable": true
   },
   "source": [
    "<h1> Calculate Each Percentage </h1>"
   ]
  },
  {
   "cell_type": "code",
   "execution_count": 14,
   "metadata": {
    "collapsed": true,
    "deletable": true,
    "editable": true
   },
   "outputs": [],
   "source": [
    "totalnum = txtRDD.map(getBooleanData).aggregate(np.zeros(15, np.int), add, add)"
   ]
  },
  {
   "cell_type": "code",
   "execution_count": 15,
   "metadata": {
    "collapsed": false,
    "deletable": true,
    "editable": true
   },
   "outputs": [
    {
     "data": {
      "text/plain": [
       "array([43, 20, 59, 41, 24, 36, 56, 61, 83, 80,  8, 17, 75, 13, 44])"
      ]
     },
     "execution_count": 15,
     "metadata": {},
     "output_type": "execute_result"
    }
   ],
   "source": [
    "totalnum"
   ]
  },
  {
   "cell_type": "code",
   "execution_count": 16,
   "metadata": {
    "collapsed": false,
    "deletable": true,
    "editable": true
   },
   "outputs": [
    {
     "data": {
      "text/plain": [
       "array([ 0.42574257,  0.1980198 ,  0.58415842,  0.40594059,  0.23762376,\n",
       "        0.35643564,  0.55445545,  0.6039604 ,  0.82178218,  0.79207921,\n",
       "        0.07920792,  0.16831683,  0.74257426,  0.12871287,  0.43564356])"
      ]
     },
     "execution_count": 16,
     "metadata": {},
     "output_type": "execute_result"
    }
   ],
   "source": [
    "y_percentage = totalnum / float(txtnum)\n",
    "y_percentage"
   ]
  },
  {
   "cell_type": "code",
   "execution_count": 17,
   "metadata": {
    "collapsed": false,
    "deletable": true,
    "editable": true
   },
   "outputs": [
    {
     "data": {
      "text/plain": [
       "array([ 0.57425743,  0.8019802 ,  0.41584158,  0.59405941,  0.76237624,\n",
       "        0.64356436,  0.44554455,  0.3960396 ,  0.17821782,  0.20792079,\n",
       "        0.92079208,  0.83168317,  0.25742574,  0.87128713,  0.56435644])"
      ]
     },
     "execution_count": 17,
     "metadata": {},
     "output_type": "execute_result"
    }
   ],
   "source": [
    "n_percentage = 1 - y_percentage\n",
    "n_percentage"
   ]
  },
  {
   "cell_type": "code",
   "execution_count": null,
   "metadata": {
    "collapsed": true,
    "deletable": true,
    "editable": true
   },
   "outputs": [],
   "source": []
  },
  {
   "cell_type": "markdown",
   "metadata": {
    "deletable": true,
    "editable": true
   },
   "source": [
    "<h1> Initiallize Weight </h1>"
   ]
  },
  {
   "cell_type": "code",
   "execution_count": 18,
   "metadata": {
    "collapsed": false,
    "deletable": true,
    "editable": true
   },
   "outputs": [
    {
     "data": {
      "text/plain": [
       "array([  2.34883721,   5.05      ,   1.71186441,   2.46341463,\n",
       "         4.20833333,   2.80555556,   1.80357143,   1.6557377 ,\n",
       "         1.21686747,   1.2625    ,  12.625     ,   5.94117647,\n",
       "         1.34666667,   7.76923077,   2.29545455])"
      ]
     },
     "execution_count": 18,
     "metadata": {},
     "output_type": "execute_result"
    }
   ],
   "source": [
    "y_weight = 1 / y_percentage\n",
    "y_weight"
   ]
  },
  {
   "cell_type": "code",
   "execution_count": 19,
   "metadata": {
    "collapsed": false,
    "deletable": true,
    "editable": true
   },
   "outputs": [
    {
     "data": {
      "text/plain": [
       "array([ 1.74137931,  1.24691358,  2.4047619 ,  1.68333333,  1.31168831,\n",
       "        1.55384615,  2.24444444,  2.525     ,  5.61111111,  4.80952381,\n",
       "        1.08602151,  1.20238095,  3.88461538,  1.14772727,  1.77192982])"
      ]
     },
     "execution_count": 19,
     "metadata": {},
     "output_type": "execute_result"
    }
   ],
   "source": [
    "n_weight = 1 / n_percentage\n",
    "n_weight"
   ]
  },
  {
   "cell_type": "code",
   "execution_count": null,
   "metadata": {
    "collapsed": true,
    "deletable": true,
    "editable": true
   },
   "outputs": [],
   "source": []
  },
  {
   "cell_type": "markdown",
   "metadata": {
    "deletable": true,
    "editable": true
   },
   "source": [
    "<h1> Calculate Each Initial Score </h1>"
   ]
  },
  {
   "cell_type": "code",
   "execution_count": 20,
   "metadata": {
    "collapsed": false,
    "deletable": true,
    "editable": true
   },
   "outputs": [],
   "source": [
    "# y_score, n_score\n",
    "scoreRDD = txtRDD.map(getBooleanData).map(lambda a: (np.dot(y_weight, a), np.dot(n_weight, np.ones(15, np.int) - a)))"
   ]
  },
  {
   "cell_type": "code",
   "execution_count": 21,
   "metadata": {
    "collapsed": false,
    "deletable": true,
    "editable": true
   },
   "outputs": [
    {
     "data": {
      "text/plain": [
       "(13.046382992272191, 13.837955065643236)"
      ]
     },
     "execution_count": 21,
     "metadata": {},
     "output_type": "execute_result"
    }
   ],
   "source": [
    "scoreRDD.first()"
   ]
  },
  {
   "cell_type": "code",
   "execution_count": null,
   "metadata": {
    "collapsed": true,
    "deletable": true,
    "editable": true
   },
   "outputs": [],
   "source": []
  },
  {
   "cell_type": "markdown",
   "metadata": {
    "deletable": true,
    "editable": true
   },
   "source": [
    "<h1> Find Closest Relation </h1>"
   ]
  },
  {
   "cell_type": "code",
   "execution_count": 22,
   "metadata": {
    "collapsed": true,
    "deletable": true,
    "editable": true
   },
   "outputs": [],
   "source": [
    "def calculate_relation_score(a_t, t):\n",
    "    a_conj = np.ones(15, np.int) - a_t\n",
    "    y_score = np.dot(y_weight, (t - a_conj) == 1)\n",
    "    n_score = np.dot(n_weight, (t - a_conj) == -1)\n",
    "    return y_score + n_score"
   ]
  },
  {
   "cell_type": "code",
   "execution_count": 23,
   "metadata": {
    "collapsed": true,
    "deletable": true,
    "editable": true
   },
   "outputs": [],
   "source": [
    "def relation_score_list(td):\n",
    "    return txtRDD.map(lambda a: ((a[0], a[-1]), getBooleanData(a))) \\\n",
    "                 .map(lambda (x, y): (calculate_relation_score(y, td), x)) \\\n",
    "                 .sortByKey(False).map(lambda (x, y): (y, x)).collect()"
   ]
  },
  {
   "cell_type": "code",
   "execution_count": 24,
   "metadata": {
    "collapsed": true
   },
   "outputs": [],
   "source": [
    "def print_rsl(rsl, thresold=0.0):\n",
    "    print \"id. {:>10}\\t{:>4}\\t{:13}\\t{:8}\".format('name', 'type', 'scores', 'relation')\n",
    "    for i, x in enumerate(rsl):\n",
    "        rp = x[1]*100.0/rsl[0][1]\n",
    "        if rp >= thresold*100:\n",
    "            print \"{:>2}. {:>10}\\t{:>4}\\t{:13}\\t{:.2f}%\".format(i+1, x[0][0], x[0][1], str(x[1]), rp)"
   ]
  },
  {
   "cell_type": "code",
   "execution_count": 25,
   "metadata": {
    "collapsed": true
   },
   "outputs": [],
   "source": [
    "def plot_relation_distribution(rsl):\n",
    "    relation_category = [(i, x[0][1]) for i, x in enumerate(rsl)]\n",
    "\n",
    "    fig = plt.figure(figsize=(9, 6))\n",
    "    dis = fig.add_subplot(211)\n",
    "    rel = fig.add_subplot(212)\n",
    "\n",
    "    dis.plot([y for (x,y) in relation_category], 'o')\n",
    "    rel.plot([y / rsl[0][1] for (x,y) in rsl])\n",
    "    plt.show()"
   ]
  },
  {
   "cell_type": "code",
   "execution_count": null,
   "metadata": {
    "collapsed": true,
    "deletable": true,
    "editable": true
   },
   "outputs": [],
   "source": []
  },
  {
   "cell_type": "markdown",
   "metadata": {
    "deletable": true,
    "editable": true
   },
   "source": [
    "<h2> Type Three Test by Seasnake </h2>"
   ]
  },
  {
   "cell_type": "code",
   "execution_count": 26,
   "metadata": {
    "collapsed": false,
    "deletable": true,
    "editable": true
   },
   "outputs": [
    {
     "data": {
      "text/plain": [
       "array([0, 0, 0, 0, 0, 1, 1, 1, 1, 0, 1, 0, 1, 0, 0])"
      ]
     },
     "execution_count": 26,
     "metadata": {},
     "output_type": "execute_result"
    }
   ],
   "source": [
    "seasnake_target = txtRDD.filter(lambda x: 'seasnake' in x[0]).first()\n",
    "seasnake_targetdata = np.array([int(x) for i, x in enumerate(seasnake_target) if i not in [0, 13, 17]])\n",
    "seasnake_targetdata"
   ]
  },
  {
   "cell_type": "code",
   "execution_count": 27,
   "metadata": {
    "collapsed": false,
    "deletable": true,
    "editable": true
   },
   "outputs": [],
   "source": [
    "seasnake_rsl = relation_score_list(seasnake_targetdata)"
   ]
  },
  {
   "cell_type": "code",
   "execution_count": 28,
   "metadata": {
    "collapsed": false,
    "deletable": true,
    "editable": true
   },
   "outputs": [
    {
     "name": "stdout",
     "output_type": "stream",
     "text": [
      "id.       name\ttype\tscores       \trelation\n",
      " 1.   seasnake\t   3\t38.7730371252\t100.00%\n",
      " 2.   stingray\t   4\t33.3939644435\t86.13%\n",
      " 3.    seawasp\t   7\t32.1490033789\t82.92%\n",
      " 4.       frog\t   5\t30.2120847442\t77.92%\n",
      " 5.   pitviper\t   3\t28.7531958553\t74.16%\n",
      " 6.   scorpion\t   7\t28.2853525853\t72.95%\n",
      " 7.    piranha\t   4\t22.540894268 \t58.14%\n",
      " 8.       bass\t   4\t22.540894268 \t58.14%\n",
      " 9.    catfish\t   4\t22.540894268 \t58.14%\n",
      "10.       chub\t   4\t22.540894268 \t58.14%\n",
      "11.    herring\t   4\t22.540894268 \t58.14%\n",
      "12.    dogfish\t   4\t20.7689644435\t53.57%\n",
      "13.       pike\t   4\t20.7689644435\t53.57%\n",
      "14.       tuna\t   4\t20.7689644435\t53.57%\n",
      "15.    haddock\t   4\t20.7373228394\t53.48%\n",
      "16.   seahorse\t   4\t20.7373228394\t53.48%\n",
      "17.       sole\t   4\t20.7373228394\t53.48%\n",
      "18.       wasp\t   6\t19.6772849632\t50.75%\n",
      "19.       carp\t   4\t19.5895955667\t50.52%\n",
      "20.       crab\t   7\t19.5240033789\t50.35%\n",
      "21.   crayfish\t   7\t19.5240033789\t50.35%\n",
      "22.    lobster\t   7\t19.5240033789\t50.35%\n",
      "23.   starfish\t   7\t19.5240033789\t50.35%\n"
     ]
    }
   ],
   "source": [
    "# pitviper(5), seasnake(1), slowworm(32), tortoise(76), tuatara(33)\n",
    "print_rsl(seasnake_rsl, 0.5)"
   ]
  },
  {
   "cell_type": "code",
   "execution_count": 29,
   "metadata": {
    "collapsed": false,
    "deletable": true,
    "editable": true
   },
   "outputs": [
    {
     "data": {
      "image/png": "[encoded data removed]",
      "text/plain": [
       "<matplotlib.figure.Figure at 0x10c7748d0>"
      ]
     },
     "metadata": {},
     "output_type": "display_data"
    }
   ],
   "source": [
    "plot_relation_distribution(seasnake_rsl)"
   ]
  },
  {
   "cell_type": "code",
   "execution_count": null,
   "metadata": {
    "collapsed": true,
    "deletable": true,
    "editable": true
   },
   "outputs": [],
   "source": []
  },
  {
   "cell_type": "markdown",
   "metadata": {
    "deletable": true,
    "editable": true
   },
   "source": [
    "<h2> Type Four Test by Piranha </h2>"
   ]
  },
  {
   "cell_type": "code",
   "execution_count": 30,
   "metadata": {
    "collapsed": false,
    "deletable": true,
    "editable": true
   },
   "outputs": [
    {
     "data": {
      "text/plain": [
       "array([0, 0, 1, 0, 0, 1, 1, 1, 1, 0, 0, 1, 1, 0, 0])"
      ]
     },
     "execution_count": 30,
     "metadata": {},
     "output_type": "execute_result"
    }
   ],
   "source": [
    "piranha_target = txtRDD.filter(lambda x: 'piranha' in x[0]).first()\n",
    "piranha_targetdata = np.array([int(x) for i, x in enumerate(piranha_target) if i not in [0, 13, 17]])\n",
    "piranha_targetdata"
   ]
  },
  {
   "cell_type": "code",
   "execution_count": 31,
   "metadata": {
    "collapsed": true,
    "deletable": true,
    "editable": true
   },
   "outputs": [],
   "source": [
    "piranha_rsl = relation_score_list(piranha_targetdata)"
   ]
  },
  {
   "cell_type": "code",
   "execution_count": 32,
   "metadata": {
    "collapsed": false,
    "deletable": true,
    "editable": true
   },
   "outputs": [
    {
     "name": "stdout",
     "output_type": "stream",
     "text": [
      "id.       name\ttype\tscores       \trelation\n",
      " 1.       bass\t   4\t31.2799566508\t100.00%\n",
      " 2.    catfish\t   4\t31.2799566508\t100.00%\n",
      " 3.       chub\t   4\t31.2799566508\t100.00%\n",
      " 4.    herring\t   4\t31.2799566508\t100.00%\n",
      " 5.    piranha\t   4\t31.2799566508\t100.00%\n",
      " 6.    dogfish\t   4\t29.5080268262\t94.34%\n",
      " 7.       pike\t   4\t29.5080268262\t94.34%\n",
      " 8.       tuna\t   4\t29.5080268262\t94.34%\n",
      " 9.    haddock\t   4\t29.4763852222\t94.23%\n",
      "10.   seahorse\t   4\t29.4763852222\t94.23%\n",
      "11.       sole\t   4\t29.4763852222\t94.23%\n",
      "12.   stingray\t   4\t28.4220053208\t90.86%\n",
      "13.       carp\t   4\t28.3286579495\t90.56%\n",
      "14.   seasnake\t   3\t22.540894268 \t72.06%\n",
      "15.    dolphin\t   1\t21.3033052766\t68.11%\n",
      "16.   porpoise\t   1\t21.3033052766\t68.11%\n",
      "17.       crab\t   7\t21.1195083387\t67.52%\n",
      "18.   crayfish\t   7\t21.1195083387\t67.52%\n",
      "19.    lobster\t   7\t21.1195083387\t67.52%\n",
      "20.   starfish\t   7\t21.1195083387\t67.52%\n",
      "21.       newt\t   5\t20.5292563706\t65.63%\n",
      "22.    seawasp\t   7\t20.0334868333\t64.05%\n",
      "23.    sealion\t   1\t19.5619259662\t62.54%\n",
      "24.    octopus\t   7\t19.3475785141\t61.85%\n",
      "25.       frog\t   5\t19.182589704 \t61.33%\n",
      "26.       clam\t   7\t18.3139527832\t58.55%\n",
      "27.       seal\t   1\t18.2152592996\t58.23%\n",
      "28.       frog\t   5\t18.0965681986\t57.85%\n",
      "29.   slowworm\t   3\t17.7237008151\t56.66%\n",
      "30.    tuatara\t   3\t17.7237008151\t56.66%\n",
      "31.       toad\t   5\t17.3790182754\t55.56%\n",
      "32.   pitviper\t   3\t16.6376793097\t53.19%\n",
      "33.       gull\t   2\t16.3149167738\t52.16%\n",
      "34.    skimmer\t   2\t16.3149167738\t52.16%\n",
      "35.       skua\t   2\t16.3149167738\t52.16%\n",
      "36.    penguin\t   2\t15.8546752609\t50.69%\n"
     ]
    }
   ],
   "source": [
    "print_rsl(piranha_rsl, 0.5)"
   ]
  },
  {
   "cell_type": "code",
   "execution_count": 33,
   "metadata": {
    "collapsed": false,
    "deletable": true,
    "editable": true
   },
   "outputs": [
    {
     "data": {
      "image/png": "[encoded data removed]",
      "text/plain": [
       "<matplotlib.figure.Figure at 0x10c7826d0>"
      ]
     },
     "metadata": {},
     "output_type": "display_data"
    }
   ],
   "source": [
    "plot_relation_distribution(piranha_rsl)"
   ]
  },
  {
   "cell_type": "code",
   "execution_count": null,
   "metadata": {
    "collapsed": true,
    "deletable": true,
    "editable": true
   },
   "outputs": [],
   "source": []
  },
  {
   "cell_type": "markdown",
   "metadata": {
    "deletable": true,
    "editable": true
   },
   "source": [
    "<h2> Type One Test by Lion </h2>"
   ]
  },
  {
   "cell_type": "code",
   "execution_count": 34,
   "metadata": {
    "collapsed": false,
    "deletable": true,
    "editable": true
   },
   "outputs": [
    {
     "data": {
      "text/plain": [
       "array([1, 0, 0, 1, 0, 0, 1, 1, 1, 1, 0, 0, 1, 0, 1])"
      ]
     },
     "execution_count": 34,
     "metadata": {},
     "output_type": "execute_result"
    }
   ],
   "source": [
    "lion_target = txtRDD.filter(lambda x: 'lion' in x[0]).first()\n",
    "lion_targetdata = np.array([int(x) for i, x in enumerate(lion_target) if i not in [0, 13, 17]])\n",
    "lion_targetdata"
   ]
  },
  {
   "cell_type": "code",
   "execution_count": 35,
   "metadata": {
    "collapsed": true,
    "deletable": true,
    "editable": true
   },
   "outputs": [],
   "source": [
    "lion_rsl = relation_score_list(lion_targetdata)"
   ]
  },
  {
   "cell_type": "code",
   "execution_count": 36,
   "metadata": {
    "collapsed": false,
    "deletable": true,
    "editable": true
   },
   "outputs": [
    {
     "name": "stdout",
     "output_type": "stream",
     "text": [
      "id.       name\ttype\tscores       \trelation\n",
      " 1.       boar\t   1\t24.34638934  \t100.00%\n",
      " 2.    cheetah\t   1\t24.34638934  \t100.00%\n",
      " 3.    leopard\t   1\t24.34638934  \t100.00%\n",
      " 4.       lion\t   1\t24.34638934  \t100.00%\n",
      " 5.       lynx\t   1\t24.34638934  \t100.00%\n",
      " 6.   mongoose\t   1\t24.34638934  \t100.00%\n",
      " 7.    polecat\t   1\t24.34638934  \t100.00%\n",
      " 8.       puma\t   1\t24.34638934  \t100.00%\n",
      " 9.    raccoon\t   1\t24.34638934  \t100.00%\n",
      "10.       wolf\t   1\t24.34638934  \t100.00%\n",
      "11.   pussycat\t   1\t23.1986620672\t95.29%\n",
      "12.   aardvark\t   1\t22.9997226733\t94.47%\n",
      "13.       bear\t   1\t22.9997226733\t94.47%\n",
      "14.       mink\t   1\t22.7925431861\t93.62%\n",
      "15.   antelope\t   1\t22.5428179114\t92.59%\n",
      "16.    buffalo\t   1\t22.5428179114\t92.59%\n",
      "17.       deer\t   1\t22.5428179114\t92.59%\n",
      "18.   elephant\t   1\t22.5428179114\t92.59%\n",
      "19.    giraffe\t   1\t22.5428179114\t92.59%\n",
      "20.       oryx\t   1\t22.5428179114\t92.59%\n",
      "21.    wallaby\t   1\t22.5428179114\t92.59%\n",
      "22.       mole\t   1\t22.0509347945\t90.57%\n",
      "23.    opossum\t   1\t22.0509347945\t90.57%\n",
      "24.       girl\t   1\t21.8519954006\t89.75%\n",
      "25.    sealion\t   1\t21.5901622337\t88.68%\n",
      "26.       calf\t   1\t21.3950906387\t87.88%\n",
      "27.       goat\t   1\t21.3950906387\t87.88%\n",
      "28.       pony\t   1\t21.3950906387\t87.88%\n",
      "29.   reindeer\t   1\t21.3950906387\t87.88%\n",
      "30.    gorilla\t   1\t21.1961512447\t87.06%\n",
      "31.       hare\t   1\t20.2473633659\t83.16%\n",
      "32.   squirrel\t   1\t20.2473633659\t83.16%\n",
      "33.       vole\t   1\t20.2473633659\t83.16%\n",
      "34.       seal\t   1\t20.2434955671\t83.15%\n",
      "35.    dolphin\t   1\t19.2413250244\t79.03%\n",
      "36.   porpoise\t   1\t19.2413250244\t79.03%\n",
      "37.    hamster\t   1\t19.0996360932\t78.45%\n",
      "38.    vampire\t   1\t18.9356750543\t77.78%\n",
      "39.   fruitbat\t   1\t18.9356750543\t77.78%\n",
      "40.   platypus\t   1\t18.7320435764\t76.94%\n",
      "41.       cavy\t   1\t17.7529694265\t72.92%\n",
      "42.   slowworm\t   3\t14.8339210463\t60.93%\n",
      "43.    tuatara\t   3\t14.8339210463\t60.93%\n",
      "44.       rhea\t   2\t14.2267243066\t58.43%\n",
      "45.   pitviper\t   3\t13.7478995409\t56.47%\n",
      "46.   tortoise\t   3\t13.6700664583\t56.15%\n",
      "47.   seasnake\t   3\t13.3363152918\t54.78%\n",
      "48.       newt\t   5\t13.2800748925\t54.55%\n",
      "49.   scorpion\t   7\t13.2800562709\t54.55%\n",
      "50.    dogfish\t   4\t13.1106484855\t53.85%\n",
      "51.       pike\t   4\t13.1106484855\t53.85%\n",
      "52.       tuna\t   4\t13.1106484855\t53.85%\n",
      "53.    vulture\t   2\t12.9150359949\t53.05%\n",
      "54.    penguin\t   2\t12.6728781527\t52.05%\n",
      "55.    ostrich\t   2\t12.423152878 \t51.03%\n"
     ]
    }
   ],
   "source": [
    "print_rsl(lion_rsl, 0.5)"
   ]
  },
  {
   "cell_type": "code",
   "execution_count": 37,
   "metadata": {
    "collapsed": false,
    "deletable": true,
    "editable": true,
    "scrolled": false
   },
   "outputs": [
    {
     "data": {
      "image/png": "[encoded data removed]",
      "text/plain": [
       "<matplotlib.figure.Figure at 0x10cbcb150>"
      ]
     },
     "metadata": {},
     "output_type": "display_data"
    }
   ],
   "source": [
    "plot_relation_distribution(lion_rsl)"
   ]
  },
  {
   "cell_type": "code",
   "execution_count": null,
   "metadata": {
    "collapsed": true,
    "deletable": true,
    "editable": true
   },
   "outputs": [],
   "source": []
  },
  {
   "cell_type": "markdown",
   "metadata": {},
   "source": [
    "<h1> Cluster by Kmeans </h1>"
   ]
  },
  {
   "cell_type": "code",
   "execution_count": 38,
   "metadata": {
    "collapsed": true
   },
   "outputs": [],
   "source": [
    "dataset = sqlContext.createDataFrame(txtRDD.map(cleanDataToRow))"
   ]
  },
  {
   "cell_type": "code",
   "execution_count": 39,
   "metadata": {
    "collapsed": false
   },
   "outputs": [
    {
     "name": "stdout",
     "output_type": "stream",
     "text": [
      "+--------+-------+--------+--------+--------+-------+--------+----+--------+----+----+----+----+--------+--------+----+-------+--------+\n",
      "|airborne|aquatic|backbone|breathes|category|catsize|domestic|eggs|feathers|fins|hair|legs|milk|    name|predator|tail|toothed|venomous|\n",
      "+--------+-------+--------+--------+--------+-------+--------+----+--------+----+----+----+----+--------+--------+----+-------+--------+\n",
      "|       0|      0|       1|       1|       1|      1|       0|   0|       0|   0|   1|   4|   1|aardvark|       1|   0|      1|       0|\n",
      "|       0|      0|       1|       1|       1|      1|       0|   0|       0|   0|   1|   4|   1|antelope|       0|   1|      1|       0|\n",
      "|       0|      1|       1|       0|       4|      0|       0|   1|       0|   1|   0|   0|   0|    bass|       1|   1|      1|       0|\n",
      "|       0|      0|       1|       1|       1|      1|       0|   0|       0|   0|   1|   4|   1|    bear|       1|   0|      1|       0|\n",
      "|       0|      0|       1|       1|       1|      1|       0|   0|       0|   0|   1|   4|   1|    boar|       1|   1|      1|       0|\n",
      "+--------+-------+--------+--------+--------+-------+--------+----+--------+----+----+----+----+--------+--------+----+-------+--------+\n",
      "only showing top 5 rows\n",
      "\n"
     ]
    }
   ],
   "source": [
    "dataset.show(5)"
   ]
  },
  {
   "cell_type": "code",
   "execution_count": 40,
   "metadata": {
    "collapsed": false
   },
   "outputs": [],
   "source": [
    "cluster_num = 7\n",
    "feature_cols = ['hair', 'feathers', 'eggs', 'milk', 'airborne', 'aquatic', 'predator', 'toothed', 'backbone',\n",
    "                'breathes', 'venomous', 'fins', 'eggs', 'tail', 'domestic', 'catsize']\n",
    "\n",
    "# Combine selected columns to generate vector column\n",
    "assembler = VectorAssembler(\n",
    "    inputCols=feature_cols,\n",
    "    outputCol='features')\n",
    "\n",
    "# Standard Scaler\n",
    "scaler = StandardScaler(inputCol=\"features\", outputCol=\"scaled_features\",\n",
    "                       withStd=True, withMean=True)\n",
    "\n",
    "# KMeans\n",
    "kmeans = KMeans(k=cluster_num, featuresCol=\"scaled_features\", seed=1)\n",
    "\n",
    "# pipeline\n",
    "pipeline = Pipeline(stages=[assembler, scaler, kmeans])\n",
    "pipelineModel = pipeline.fit(dataset)"
   ]
  },
  {
   "cell_type": "code",
   "execution_count": 41,
   "metadata": {
    "collapsed": false
   },
   "outputs": [
    {
     "data": {
      "text/plain": [
       "[array([ 1.02985627, -0.49443795, -1.11625453,  1.20371316, -0.55551984,\n",
       "        -0.35097328,  0.14122901,  0.74217826,  0.46337918,  0.50980485,\n",
       "        -0.29183867, -0.11520021, -1.11625453,  0.23026068,  0.17467467,\n",
       "         1.13253179]),\n",
       " array([-0.85676071, -0.49443795,  0.83953335, -0.82253733, -0.55551984,\n",
       "         1.33704105,  0.27597787,  0.80575756,  0.46337918, -1.94211373,\n",
       "        -0.00841842,  2.21184401,  0.83953335,  0.58586203, -0.15388343,\n",
       "        -0.25676834]),\n",
       " array([-0.38325684, -0.49443795,  0.83953335, -0.82253733,  0.26959051,\n",
       "        -0.00725995, -0.16790074, -1.22878029, -2.1366929 , -0.49980868,\n",
       "         0.35836072, -0.4476351 ,  0.83953335, -1.68998664, -0.20766276,\n",
       "        -0.75618996]),\n",
       " array([-0.85676071,  2.00247372,  0.83953335, -0.82253733,  1.78229281,\n",
       "        -0.04799635, -0.44268274, -1.22878029,  0.46337918,  0.50980485,\n",
       "        -0.29183867, -0.4476351 ,  0.83953335,  0.58586203,  0.21181602,\n",
       "        -0.60666615]),\n",
       " array([-0.85676071, -0.49443795,  0.39089383, -0.82253733, -0.55551984,\n",
       "         0.41368279,  0.66953012,  0.5796978 ,  0.17448228,  0.23736946,\n",
       "         1.34570052, -0.4476351 ,  0.39089383, -0.17275419, -0.38244559,\n",
       "        -0.87423507]),\n",
       " array([ 1.15563073, -0.49443795, -1.17934447,  1.20371316, -0.03600592,\n",
       "        -0.74051504, -0.66512531,  0.80575756,  0.46337918,  0.50980485,\n",
       "        -0.29183867, -0.4476351 , -1.17934447,  0.33298996,  0.27784508,\n",
       "        -0.87423507]),\n",
       " array([-0.85676071,  1.58632177,  0.83953335, -0.82253733, -0.1658844 ,\n",
       "        -0.39425569,  0.22464497, -1.22878029,  0.46337918,  0.50980485,\n",
       "        -0.29183867, -0.4476351 ,  0.83953335,  0.58586203, -0.38244559,\n",
       "         0.79807065])]"
      ]
     },
     "execution_count": 41,
     "metadata": {},
     "output_type": "execute_result"
    }
   ],
   "source": [
    "kmeans_model = pipelineModel.stages[2]\n",
    "centers = kmeans_model.clusterCenters()\n",
    "centers"
   ]
  },
  {
   "cell_type": "code",
   "execution_count": 42,
   "metadata": {
    "collapsed": false
   },
   "outputs": [
    {
     "name": "stdout",
     "output_type": "stream",
     "text": [
      "+--------+----+--------+----+----+--------+-------+--------+-------+--------+--------+--------+----+----+----+--------+-------+----------+\n",
      "|    name|hair|feathers|eggs|milk|airborne|aquatic|predator|toothed|backbone|breathes|venomous|fins|eggs|tail|domestic|catsize|prediction|\n",
      "+--------+----+--------+----+----+--------+-------+--------+-------+--------+--------+--------+----+----+----+--------+-------+----------+\n",
      "|aardvark|   1|       0|   0|   1|       0|      0|       1|      1|       1|       1|       0|   0|   0|   0|       0|      1|         0|\n",
      "|antelope|   1|       0|   0|   1|       0|      0|       0|      1|       1|       1|       0|   0|   0|   1|       0|      1|         0|\n",
      "|    bass|   0|       0|   1|   0|       0|      1|       1|      1|       1|       0|       0|   1|   1|   1|       0|      0|         1|\n",
      "|    bear|   1|       0|   0|   1|       0|      0|       1|      1|       1|       1|       0|   0|   0|   0|       0|      1|         0|\n",
      "|    boar|   1|       0|   0|   1|       0|      0|       1|      1|       1|       1|       0|   0|   0|   1|       0|      1|         0|\n",
      "+--------+----+--------+----+----+--------+-------+--------+-------+--------+--------+--------+----+----+----+--------+-------+----------+\n",
      "only showing top 5 rows\n",
      "\n"
     ]
    }
   ],
   "source": [
    "predicted_df = pipelineModel.transform(dataset)\n",
    "predicted_df.select(['name', 'hair', 'feathers', 'eggs', 'milk', 'airborne', 'aquatic', 'predator',\n",
    "                     'toothed', 'backbone', 'breathes', 'venomous', 'fins', 'eggs', 'tail', 'domestic',\n",
    "                     'catsize', 'prediction']).show(5)"
   ]
  },
  {
   "cell_type": "code",
   "execution_count": 43,
   "metadata": {
    "collapsed": true
   },
   "outputs": [],
   "source": [
    "X = predicted_df.rdd.map(lambda r: r.scaled_features.toArray()).collect()\n",
    "y = predicted_df.rdd.map(lambda r: r.prediction).collect()"
   ]
  },
  {
   "cell_type": "code",
   "execution_count": 44,
   "metadata": {
    "collapsed": false
   },
   "outputs": [
    {
     "data": {
      "text/plain": [
       "((101, 16), (101,))"
      ]
     },
     "execution_count": 44,
     "metadata": {},
     "output_type": "execute_result"
    }
   ],
   "source": [
    "X = np.array(X)\n",
    "y = np.array(y)\n",
    "\n",
    "X.shape, y.shape"
   ]
  },
  {
   "cell_type": "code",
   "execution_count": 45,
   "metadata": {
    "collapsed": false
   },
   "outputs": [
    {
     "data": {
      "image/png": "[encoded data removed]",
      "text/plain": [
       "<matplotlib.figure.Figure at 0x10cb6a690>"
      ]
     },
     "metadata": {},
     "output_type": "display_data"
    }
   ],
   "source": [
    "from sklearn.manifold import TSNE\n",
    "import matplotlib.cm as cm\n",
    "\n",
    "colors = cm.rainbow(np.linspace(0, 1, cluster_num))\n",
    "tsne = TSNE(perplexity=30, n_components=2, init='pca', n_iter=5000)\n",
    "points = tsne.fit_transform(X)\n",
    "plt.figure(figsize=(10, 6))\n",
    "plt.xlabel('comp 1')\n",
    "plt.ylabel('comp 2')\n",
    "for p_c in zip(points,  colors[y]):\n",
    "    plt.scatter(p_c[0][0], p_c[0][1], color=p_c[1])"
   ]
  },
  {
   "cell_type": "code",
   "execution_count": null,
   "metadata": {
    "collapsed": true
   },
   "outputs": [],
   "source": []
  }
 ],
 "metadata": {
  "kernelspec": {
   "display_name": "Python 2",
   "language": "python",
   "name": "python2"
  },
  "language_info": {
   "codemirror_mode": {
    "name": "ipython",
    "version": 2
   },
   "file_extension": ".py",
   "mimetype": "text/x-python",
   "name": "python",
   "nbconvert_exporter": "python",
   "pygments_lexer": "ipython2",
   "version": "2.7.13"
  }
 },
 "nbformat": 4,
 "nbformat_minor": 2
}
